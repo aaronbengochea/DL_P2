{
 "cells": [
  {
   "cell_type": "code",
   "execution_count": 1,
   "metadata": {
    "execution": {
     "iopub.execute_input": "2025-04-13T00:45:00.105452Z",
     "iopub.status.busy": "2025-04-13T00:45:00.105260Z",
     "iopub.status.idle": "2025-04-13T00:45:00.822432Z",
     "shell.execute_reply": "2025-04-13T00:45:00.821491Z",
     "shell.execute_reply.started": "2025-04-13T00:45:00.105434Z"
    },
    "trusted": true
   },
   "outputs": [
    {
     "name": "stdout",
     "output_type": "stream",
     "text": [
      "Cloning into 'agnews-classifier'...\n",
      "remote: Enumerating objects: 27, done.\u001b[K\n",
      "remote: Counting objects: 100% (27/27), done.\u001b[K\n",
      "remote: Compressing objects: 100% (19/19), done.\u001b[K\n",
      "remote: Total 27 (delta 10), reused 23 (delta 6), pack-reused 0 (from 0)\u001b[K\n",
      "Receiving objects: 100% (27/27), 6.89 KiB | 3.45 MiB/s, done.\n",
      "Resolving deltas: 100% (10/10), done.\n",
      "/kaggle/working/agnews-classifier\n"
     ]
    }
   ],
   "source": [
    "!git clone https://github.com/timothycao/agnews-classifier.git\n",
    "%cd agnews-classifier"
   ]
  },
  {
   "cell_type": "code",
   "execution_count": 2,
   "metadata": {
    "execution": {
     "iopub.execute_input": "2025-04-13T00:45:03.968912Z",
     "iopub.status.busy": "2025-04-13T00:45:03.968465Z",
     "iopub.status.idle": "2025-04-13T00:45:26.690759Z",
     "shell.execute_reply": "2025-04-13T00:45:26.689821Z",
     "shell.execute_reply.started": "2025-04-13T00:45:03.968874Z"
    },
    "trusted": true
   },
   "outputs": [
    {
     "data": {
      "application/vnd.jupyter.widget-view+json": {
       "model_id": "74b5ef945d0e4fd39563bbbec1e5dcea",
       "version_major": 2,
       "version_minor": 0
      },
      "text/plain": [
       "config.json:   0%|          | 0.00/481 [00:00<?, ?B/s]"
      ]
     },
     "metadata": {},
     "output_type": "display_data"
    },
    {
     "data": {
      "application/vnd.jupyter.widget-view+json": {
       "model_id": "89b55772e27b4585890e535fcf17e773",
       "version_major": 2,
       "version_minor": 0
      },
      "text/plain": [
       "model.safetensors:   0%|          | 0.00/499M [00:00<?, ?B/s]"
      ]
     },
     "metadata": {},
     "output_type": "display_data"
    },
    {
     "name": "stderr",
     "output_type": "stream",
     "text": [
      "Some weights of RobertaForSequenceClassification were not initialized from the model checkpoint at roberta-base and are newly initialized: ['classifier.dense.bias', 'classifier.dense.weight', 'classifier.out_proj.bias', 'classifier.out_proj.weight']\n",
      "You should probably TRAIN this model on a down-stream task to be able to use it for predictions and inference.\n"
     ]
    },
    {
     "name": "stdout",
     "output_type": "stream",
     "text": [
      "trainable params: 648,964 || all params: 125,297,672 || trainable%: 0.5179\n"
     ]
    }
   ],
   "source": [
    "# Model\n",
    "\n",
    "from peft import LoraConfig\n",
    "from model import create_lora_model\n",
    "\n",
    "lora_config = LoraConfig(\n",
    "    r=1,\n",
    "    lora_alpha=2,\n",
    "    lora_dropout=0.1,\n",
    "    bias='none',\n",
    "    target_modules=['query', 'value', 'key'],\n",
    "    task_type='SEQ_CLS'\n",
    ")\n",
    "\n",
    "model = create_lora_model(lora_config)"
   ]
  },
  {
   "cell_type": "code",
   "execution_count": 3,
   "metadata": {
    "execution": {
     "iopub.execute_input": "2025-04-13T00:45:43.102093Z",
     "iopub.status.busy": "2025-04-13T00:45:43.101469Z",
     "iopub.status.idle": "2025-04-13T00:55:09.318356Z",
     "shell.execute_reply": "2025-04-13T00:55:09.317535Z",
     "shell.execute_reply.started": "2025-04-13T00:45:43.102064Z"
    },
    "trusted": true
   },
   "outputs": [
    {
     "data": {
      "application/vnd.jupyter.widget-view+json": {
       "model_id": "ef0786a3004d4a489edfe764dbd1901f",
       "version_major": 2,
       "version_minor": 0
      },
      "text/plain": [
       "tokenizer_config.json:   0%|          | 0.00/25.0 [00:00<?, ?B/s]"
      ]
     },
     "metadata": {},
     "output_type": "display_data"
    },
    {
     "data": {
      "application/vnd.jupyter.widget-view+json": {
       "model_id": "04b476c2bcf440b3b4babcde849dcc3e",
       "version_major": 2,
       "version_minor": 0
      },
      "text/plain": [
       "vocab.json:   0%|          | 0.00/899k [00:00<?, ?B/s]"
      ]
     },
     "metadata": {},
     "output_type": "display_data"
    },
    {
     "data": {
      "application/vnd.jupyter.widget-view+json": {
       "model_id": "6bc4cdea62534368981657ee3830bcb9",
       "version_major": 2,
       "version_minor": 0
      },
      "text/plain": [
       "merges.txt:   0%|          | 0.00/456k [00:00<?, ?B/s]"
      ]
     },
     "metadata": {},
     "output_type": "display_data"
    },
    {
     "data": {
      "application/vnd.jupyter.widget-view+json": {
       "model_id": "c4b4069cffbe43e68754e1bb623ae6b3",
       "version_major": 2,
       "version_minor": 0
      },
      "text/plain": [
       "tokenizer.json:   0%|          | 0.00/1.36M [00:00<?, ?B/s]"
      ]
     },
     "metadata": {},
     "output_type": "display_data"
    },
    {
     "data": {
      "application/vnd.jupyter.widget-view+json": {
       "model_id": "29c7b052ceb7494fb7592bed0344ecce",
       "version_major": 2,
       "version_minor": 0
      },
      "text/plain": [
       "README.md:   0%|          | 0.00/8.07k [00:00<?, ?B/s]"
      ]
     },
     "metadata": {},
     "output_type": "display_data"
    },
    {
     "data": {
      "application/vnd.jupyter.widget-view+json": {
       "model_id": "0b00bdd8d15e4b009e1ba2e4b0c6d8f4",
       "version_major": 2,
       "version_minor": 0
      },
      "text/plain": [
       "train-00000-of-00001.parquet:   0%|          | 0.00/18.6M [00:00<?, ?B/s]"
      ]
     },
     "metadata": {},
     "output_type": "display_data"
    },
    {
     "data": {
      "application/vnd.jupyter.widget-view+json": {
       "model_id": "ffb3e003beec462984b21d14b2c1a321",
       "version_major": 2,
       "version_minor": 0
      },
      "text/plain": [
       "test-00000-of-00001.parquet:   0%|          | 0.00/1.23M [00:00<?, ?B/s]"
      ]
     },
     "metadata": {},
     "output_type": "display_data"
    },
    {
     "data": {
      "application/vnd.jupyter.widget-view+json": {
       "model_id": "2d0af23890a14fcaa6915e31a89f154c",
       "version_major": 2,
       "version_minor": 0
      },
      "text/plain": [
       "Generating train split:   0%|          | 0/120000 [00:00<?, ? examples/s]"
      ]
     },
     "metadata": {},
     "output_type": "display_data"
    },
    {
     "data": {
      "application/vnd.jupyter.widget-view+json": {
       "model_id": "2f0affabafff4e7b956024b59e08f495",
       "version_major": 2,
       "version_minor": 0
      },
      "text/plain": [
       "Generating test split:   0%|          | 0/7600 [00:00<?, ? examples/s]"
      ]
     },
     "metadata": {},
     "output_type": "display_data"
    },
    {
     "data": {
      "application/vnd.jupyter.widget-view+json": {
       "model_id": "b5018dab5f4e4d2ebaeb403b81041170",
       "version_major": 2,
       "version_minor": 0
      },
      "text/plain": [
       "Map:   0%|          | 0/120000 [00:00<?, ? examples/s]"
      ]
     },
     "metadata": {},
     "output_type": "display_data"
    },
    {
     "name": "stdout",
     "output_type": "stream",
     "text": [
      "Starting training...\n"
     ]
    },
    {
     "data": {
      "text/html": [
       "\n",
       "    <div>\n",
       "      \n",
       "      <progress value='1000' max='1000' style='width:300px; height:20px; vertical-align: middle;'></progress>\n",
       "      [1000/1000 08:15, Epoch 0/1]\n",
       "    </div>\n",
       "    <table border=\"1\" class=\"dataframe\">\n",
       "  <thead>\n",
       " <tr style=\"text-align: left;\">\n",
       "      <th>Step</th>\n",
       "      <th>Training Loss</th>\n",
       "      <th>Validation Loss</th>\n",
       "      <th>Accuracy</th>\n",
       "    </tr>\n",
       "  </thead>\n",
       "  <tbody>\n",
       "    <tr>\n",
       "      <td>100</td>\n",
       "      <td>1.372700</td>\n",
       "      <td>1.347814</td>\n",
       "      <td>0.464062</td>\n",
       "    </tr>\n",
       "    <tr>\n",
       "      <td>200</td>\n",
       "      <td>1.304200</td>\n",
       "      <td>1.223205</td>\n",
       "      <td>0.856250</td>\n",
       "    </tr>\n",
       "    <tr>\n",
       "      <td>300</td>\n",
       "      <td>0.969200</td>\n",
       "      <td>0.571864</td>\n",
       "      <td>0.881250</td>\n",
       "    </tr>\n",
       "    <tr>\n",
       "      <td>400</td>\n",
       "      <td>0.409500</td>\n",
       "      <td>0.344924</td>\n",
       "      <td>0.885938</td>\n",
       "    </tr>\n",
       "    <tr>\n",
       "      <td>500</td>\n",
       "      <td>0.344400</td>\n",
       "      <td>0.330851</td>\n",
       "      <td>0.896875</td>\n",
       "    </tr>\n",
       "    <tr>\n",
       "      <td>600</td>\n",
       "      <td>0.333600</td>\n",
       "      <td>0.337164</td>\n",
       "      <td>0.889062</td>\n",
       "    </tr>\n",
       "    <tr>\n",
       "      <td>700</td>\n",
       "      <td>0.323100</td>\n",
       "      <td>0.330091</td>\n",
       "      <td>0.893750</td>\n",
       "    </tr>\n",
       "    <tr>\n",
       "      <td>800</td>\n",
       "      <td>0.352000</td>\n",
       "      <td>0.319913</td>\n",
       "      <td>0.898438</td>\n",
       "    </tr>\n",
       "    <tr>\n",
       "      <td>900</td>\n",
       "      <td>0.313400</td>\n",
       "      <td>0.324369</td>\n",
       "      <td>0.901563</td>\n",
       "    </tr>\n",
       "    <tr>\n",
       "      <td>1000</td>\n",
       "      <td>0.325100</td>\n",
       "      <td>0.322706</td>\n",
       "      <td>0.901563</td>\n",
       "    </tr>\n",
       "  </tbody>\n",
       "</table><p>"
      ],
      "text/plain": [
       "<IPython.core.display.HTML object>"
      ]
     },
     "metadata": {},
     "output_type": "display_data"
    }
   ],
   "source": [
    "# Training\n",
    "\n",
    "from transformers import TrainingArguments\n",
    "from train import main as train\n",
    "\n",
    "training_args = TrainingArguments(\n",
    "    # Core training configs\n",
    "    max_steps=1000,\n",
    "    per_device_train_batch_size=16,\n",
    "    per_device_eval_batch_size=64,\n",
    "    optim='adamw_torch',\n",
    "    lr_scheduler_type='linear',\n",
    "    learning_rate=5e-5,\n",
    "\n",
    "    # Logging, evaluation, and checkpointing\n",
    "    logging_strategy='steps',\n",
    "    logging_steps=100,\n",
    "    eval_strategy='steps',\n",
    "    eval_steps=100,\n",
    "    output_dir='/kaggle/working/saved_models',\n",
    "    save_strategy='steps',\n",
    "    save_steps=100,\n",
    "\n",
    "    # Miscellaneous\n",
    "    report_to='none',\n",
    "    dataloader_num_workers=4,\n",
    "    gradient_checkpointing=False,\n",
    "    gradient_checkpointing_kwargs={'use_reentrant':True}\n",
    ")\n",
    "\n",
    "train(model, training_args)"
   ]
  },
  {
   "cell_type": "code",
   "execution_count": 4,
   "metadata": {
    "execution": {
     "iopub.execute_input": "2025-04-13T00:55:28.861317Z",
     "iopub.status.busy": "2025-04-13T00:55:28.860987Z",
     "iopub.status.idle": "2025-04-13T01:03:50.521194Z",
     "shell.execute_reply": "2025-04-13T01:03:50.520359Z",
     "shell.execute_reply.started": "2025-04-13T00:55:28.861291Z"
    },
    "trusted": true
   },
   "outputs": [
    {
     "name": "stdout",
     "output_type": "stream",
     "text": [
      "Starting training...\n",
      "Resuming from checkpoint: /kaggle/working/saved_models/checkpoint-1000\n"
     ]
    },
    {
     "name": "stderr",
     "output_type": "stream",
     "text": [
      "/usr/local/lib/python3.10/dist-packages/transformers/trainer.py:3418: FutureWarning: You are using `torch.load` with `weights_only=False` (the current default value), which uses the default pickle module implicitly. It is possible to construct malicious pickle data which will execute arbitrary code during unpickling (See https://github.com/pytorch/pytorch/blob/main/SECURITY.md#untrusted-models for more details). In a future release, the default value for `weights_only` will be flipped to `True`. This limits the functions that could be executed during unpickling. Arbitrary objects will no longer be allowed to be loaded via this mode unless they are explicitly allowlisted by the user via `torch.serialization.add_safe_globals`. We recommend you start setting `weights_only=True` for any use case where you don't have full control of the loaded file. Please open an issue on GitHub for any issues related to this experimental feature.\n",
      "  torch.load(os.path.join(checkpoint, OPTIMIZER_NAME), map_location=map_location)\n",
      "/usr/local/lib/python3.10/dist-packages/transformers/trainer.py:3081: FutureWarning: You are using `torch.load` with `weights_only=False` (the current default value), which uses the default pickle module implicitly. It is possible to construct malicious pickle data which will execute arbitrary code during unpickling (See https://github.com/pytorch/pytorch/blob/main/SECURITY.md#untrusted-models for more details). In a future release, the default value for `weights_only` will be flipped to `True`. This limits the functions that could be executed during unpickling. Arbitrary objects will no longer be allowed to be loaded via this mode unless they are explicitly allowlisted by the user via `torch.serialization.add_safe_globals`. We recommend you start setting `weights_only=True` for any use case where you don't have full control of the loaded file. Please open an issue on GitHub for any issues related to this experimental feature.\n",
      "  checkpoint_rng_state = torch.load(rng_file)\n"
     ]
    },
    {
     "data": {
      "text/html": [
       "\n",
       "    <div>\n",
       "      \n",
       "      <progress value='2000' max='2000' style='width:300px; height:20px; vertical-align: middle;'></progress>\n",
       "      [2000/2000 08:16, Epoch 0/1]\n",
       "    </div>\n",
       "    <table border=\"1\" class=\"dataframe\">\n",
       "  <thead>\n",
       " <tr style=\"text-align: left;\">\n",
       "      <th>Step</th>\n",
       "      <th>Training Loss</th>\n",
       "      <th>Validation Loss</th>\n",
       "      <th>Accuracy</th>\n",
       "    </tr>\n",
       "  </thead>\n",
       "  <tbody>\n",
       "    <tr>\n",
       "      <td>1100</td>\n",
       "      <td>0.335600</td>\n",
       "      <td>0.316328</td>\n",
       "      <td>0.904687</td>\n",
       "    </tr>\n",
       "    <tr>\n",
       "      <td>1200</td>\n",
       "      <td>0.329800</td>\n",
       "      <td>0.319687</td>\n",
       "      <td>0.907813</td>\n",
       "    </tr>\n",
       "    <tr>\n",
       "      <td>1300</td>\n",
       "      <td>0.365200</td>\n",
       "      <td>0.319376</td>\n",
       "      <td>0.903125</td>\n",
       "    </tr>\n",
       "    <tr>\n",
       "      <td>1400</td>\n",
       "      <td>0.319400</td>\n",
       "      <td>0.317062</td>\n",
       "      <td>0.904687</td>\n",
       "    </tr>\n",
       "    <tr>\n",
       "      <td>1500</td>\n",
       "      <td>0.324100</td>\n",
       "      <td>0.313968</td>\n",
       "      <td>0.904687</td>\n",
       "    </tr>\n",
       "    <tr>\n",
       "      <td>1600</td>\n",
       "      <td>0.344900</td>\n",
       "      <td>0.312618</td>\n",
       "      <td>0.907813</td>\n",
       "    </tr>\n",
       "    <tr>\n",
       "      <td>1700</td>\n",
       "      <td>0.289500</td>\n",
       "      <td>0.320132</td>\n",
       "      <td>0.906250</td>\n",
       "    </tr>\n",
       "    <tr>\n",
       "      <td>1800</td>\n",
       "      <td>0.314900</td>\n",
       "      <td>0.317842</td>\n",
       "      <td>0.909375</td>\n",
       "    </tr>\n",
       "    <tr>\n",
       "      <td>1900</td>\n",
       "      <td>0.291400</td>\n",
       "      <td>0.316353</td>\n",
       "      <td>0.910937</td>\n",
       "    </tr>\n",
       "    <tr>\n",
       "      <td>2000</td>\n",
       "      <td>0.356600</td>\n",
       "      <td>0.315619</td>\n",
       "      <td>0.912500</td>\n",
       "    </tr>\n",
       "  </tbody>\n",
       "</table><p>"
      ],
      "text/plain": [
       "<IPython.core.display.HTML object>"
      ]
     },
     "metadata": {},
     "output_type": "display_data"
    }
   ],
   "source": [
    "# Continue training for another 1000 steps\n",
    "\n",
    "training_args = TrainingArguments(\n",
    "    # Core training configs\n",
    "    max_steps=2000,\n",
    "    per_device_train_batch_size=16,\n",
    "    per_device_eval_batch_size=64,\n",
    "    optim='adamw_torch',\n",
    "    lr_scheduler_type='linear',\n",
    "    learning_rate=5e-5,\n",
    "\n",
    "    # Logging, evaluation, and checkpointing\n",
    "    logging_strategy='steps',\n",
    "    logging_steps=100,\n",
    "    eval_strategy='steps',\n",
    "    eval_steps=100,\n",
    "    output_dir='/kaggle/working/saved_models',\n",
    "    save_strategy='steps',\n",
    "    save_steps=100,\n",
    "\n",
    "    # Miscellaneous\n",
    "    report_to='none',\n",
    "    dataloader_num_workers=4,\n",
    "    gradient_checkpointing=False,\n",
    "    gradient_checkpointing_kwargs={'use_reentrant':True}\n",
    ")\n",
    "\n",
    "train(model, training_args, checkpoint='/kaggle/working/saved_models/checkpoint-1000')"
   ]
  },
  {
   "cell_type": "code",
   "execution_count": 5,
   "metadata": {
    "execution": {
     "iopub.execute_input": "2025-04-13T01:04:02.787365Z",
     "iopub.status.busy": "2025-04-13T01:04:02.787041Z",
     "iopub.status.idle": "2025-04-13T01:12:26.103456Z",
     "shell.execute_reply": "2025-04-13T01:12:26.102590Z",
     "shell.execute_reply.started": "2025-04-13T01:04:02.787341Z"
    },
    "trusted": true
   },
   "outputs": [
    {
     "name": "stdout",
     "output_type": "stream",
     "text": [
      "Starting training...\n",
      "Resuming from checkpoint: /kaggle/working/saved_models/checkpoint-2000\n"
     ]
    },
    {
     "name": "stderr",
     "output_type": "stream",
     "text": [
      "/usr/local/lib/python3.10/dist-packages/transformers/trainer.py:3418: FutureWarning: You are using `torch.load` with `weights_only=False` (the current default value), which uses the default pickle module implicitly. It is possible to construct malicious pickle data which will execute arbitrary code during unpickling (See https://github.com/pytorch/pytorch/blob/main/SECURITY.md#untrusted-models for more details). In a future release, the default value for `weights_only` will be flipped to `True`. This limits the functions that could be executed during unpickling. Arbitrary objects will no longer be allowed to be loaded via this mode unless they are explicitly allowlisted by the user via `torch.serialization.add_safe_globals`. We recommend you start setting `weights_only=True` for any use case where you don't have full control of the loaded file. Please open an issue on GitHub for any issues related to this experimental feature.\n",
      "  torch.load(os.path.join(checkpoint, OPTIMIZER_NAME), map_location=map_location)\n",
      "/usr/local/lib/python3.10/dist-packages/transformers/trainer.py:3081: FutureWarning: You are using `torch.load` with `weights_only=False` (the current default value), which uses the default pickle module implicitly. It is possible to construct malicious pickle data which will execute arbitrary code during unpickling (See https://github.com/pytorch/pytorch/blob/main/SECURITY.md#untrusted-models for more details). In a future release, the default value for `weights_only` will be flipped to `True`. This limits the functions that could be executed during unpickling. Arbitrary objects will no longer be allowed to be loaded via this mode unless they are explicitly allowlisted by the user via `torch.serialization.add_safe_globals`. We recommend you start setting `weights_only=True` for any use case where you don't have full control of the loaded file. Please open an issue on GitHub for any issues related to this experimental feature.\n",
      "  checkpoint_rng_state = torch.load(rng_file)\n"
     ]
    },
    {
     "data": {
      "text/html": [
       "\n",
       "    <div>\n",
       "      \n",
       "      <progress value='3000' max='3000' style='width:300px; height:20px; vertical-align: middle;'></progress>\n",
       "      [3000/3000 08:16, Epoch 0/1]\n",
       "    </div>\n",
       "    <table border=\"1\" class=\"dataframe\">\n",
       "  <thead>\n",
       " <tr style=\"text-align: left;\">\n",
       "      <th>Step</th>\n",
       "      <th>Training Loss</th>\n",
       "      <th>Validation Loss</th>\n",
       "      <th>Accuracy</th>\n",
       "    </tr>\n",
       "  </thead>\n",
       "  <tbody>\n",
       "    <tr>\n",
       "      <td>2100</td>\n",
       "      <td>0.315000</td>\n",
       "      <td>0.312526</td>\n",
       "      <td>0.912500</td>\n",
       "    </tr>\n",
       "    <tr>\n",
       "      <td>2200</td>\n",
       "      <td>0.312300</td>\n",
       "      <td>0.311966</td>\n",
       "      <td>0.910937</td>\n",
       "    </tr>\n",
       "    <tr>\n",
       "      <td>2300</td>\n",
       "      <td>0.304200</td>\n",
       "      <td>0.311071</td>\n",
       "      <td>0.906250</td>\n",
       "    </tr>\n",
       "    <tr>\n",
       "      <td>2400</td>\n",
       "      <td>0.323600</td>\n",
       "      <td>0.313114</td>\n",
       "      <td>0.907813</td>\n",
       "    </tr>\n",
       "    <tr>\n",
       "      <td>2500</td>\n",
       "      <td>0.297200</td>\n",
       "      <td>0.311272</td>\n",
       "      <td>0.909375</td>\n",
       "    </tr>\n",
       "    <tr>\n",
       "      <td>2600</td>\n",
       "      <td>0.284700</td>\n",
       "      <td>0.312168</td>\n",
       "      <td>0.907813</td>\n",
       "    </tr>\n",
       "    <tr>\n",
       "      <td>2700</td>\n",
       "      <td>0.282800</td>\n",
       "      <td>0.313690</td>\n",
       "      <td>0.912500</td>\n",
       "    </tr>\n",
       "    <tr>\n",
       "      <td>2800</td>\n",
       "      <td>0.284000</td>\n",
       "      <td>0.312248</td>\n",
       "      <td>0.906250</td>\n",
       "    </tr>\n",
       "    <tr>\n",
       "      <td>2900</td>\n",
       "      <td>0.304600</td>\n",
       "      <td>0.313179</td>\n",
       "      <td>0.906250</td>\n",
       "    </tr>\n",
       "    <tr>\n",
       "      <td>3000</td>\n",
       "      <td>0.301200</td>\n",
       "      <td>0.313317</td>\n",
       "      <td>0.906250</td>\n",
       "    </tr>\n",
       "  </tbody>\n",
       "</table><p>"
      ],
      "text/plain": [
       "<IPython.core.display.HTML object>"
      ]
     },
     "metadata": {},
     "output_type": "display_data"
    }
   ],
   "source": [
    "# Continue training for another 1000 steps\n",
    "\n",
    "training_args = TrainingArguments(\n",
    "    # Core training configs\n",
    "    max_steps=3000,\n",
    "    per_device_train_batch_size=16,\n",
    "    per_device_eval_batch_size=64,\n",
    "    optim='adamw_torch',\n",
    "    lr_scheduler_type='linear',\n",
    "    learning_rate=5e-5,\n",
    "\n",
    "    # Logging, evaluation, and checkpointing\n",
    "    logging_strategy='steps',\n",
    "    logging_steps=100,\n",
    "    eval_strategy='steps',\n",
    "    eval_steps=100,\n",
    "    output_dir='/kaggle/working/saved_models',\n",
    "    save_strategy='steps',\n",
    "    save_steps=100,\n",
    "\n",
    "    # Miscellaneous\n",
    "    report_to='none',\n",
    "    dataloader_num_workers=4,\n",
    "    gradient_checkpointing=False,\n",
    "    gradient_checkpointing_kwargs={'use_reentrant':True}\n",
    ")\n",
    "\n",
    "train(model, training_args, checkpoint='/kaggle/working/saved_models/checkpoint-2000')"
   ]
  },
  {
   "cell_type": "code",
   "execution_count": 6,
   "metadata": {
    "execution": {
     "iopub.execute_input": "2025-04-13T01:13:51.783968Z",
     "iopub.status.busy": "2025-04-13T01:13:51.783618Z",
     "iopub.status.idle": "2025-04-13T01:13:51.830078Z",
     "shell.execute_reply": "2025-04-13T01:13:51.829242Z",
     "shell.execute_reply.started": "2025-04-13T01:13:51.783943Z"
    },
    "trusted": true
   },
   "outputs": [
    {
     "name": "stdout",
     "output_type": "stream",
     "text": [
      "Data exported to /kaggle/working/processed_data/processed_log_history.csv\n"
     ]
    },
    {
     "data": {
      "text/html": [
       "<div>\n",
       "<style scoped>\n",
       "    .dataframe tbody tr th:only-of-type {\n",
       "        vertical-align: middle;\n",
       "    }\n",
       "\n",
       "    .dataframe tbody tr th {\n",
       "        vertical-align: top;\n",
       "    }\n",
       "\n",
       "    .dataframe thead th {\n",
       "        text-align: right;\n",
       "    }\n",
       "</style>\n",
       "<table border=\"1\" class=\"dataframe\">\n",
       "  <thead>\n",
       "    <tr style=\"text-align: right;\">\n",
       "      <th></th>\n",
       "      <th>Step</th>\n",
       "      <th>Train Loss</th>\n",
       "      <th>Test Loss</th>\n",
       "      <th>Train Acc</th>\n",
       "      <th>Test Acc</th>\n",
       "      <th>Learning Rate</th>\n",
       "      <th>Epochs</th>\n",
       "      <th>loss spread</th>\n",
       "      <th>loss ratio</th>\n",
       "      <th>Acc spread</th>\n",
       "      <th>Acc ratio</th>\n",
       "    </tr>\n",
       "  </thead>\n",
       "  <tbody>\n",
       "    <tr>\n",
       "      <th>0</th>\n",
       "      <td>100</td>\n",
       "      <td>1.3727</td>\n",
       "      <td>1.347814</td>\n",
       "      <td>0.345000</td>\n",
       "      <td>0.464062</td>\n",
       "      <td>0.000045</td>\n",
       "      <td>0.013405</td>\n",
       "      <td>0.024886</td>\n",
       "      <td>1.018464</td>\n",
       "      <td>0.119063</td>\n",
       "      <td>1.345109</td>\n",
       "    </tr>\n",
       "    <tr>\n",
       "      <th>1</th>\n",
       "      <td>200</td>\n",
       "      <td>1.3042</td>\n",
       "      <td>1.223205</td>\n",
       "      <td>0.524554</td>\n",
       "      <td>0.856250</td>\n",
       "      <td>0.000040</td>\n",
       "      <td>0.026810</td>\n",
       "      <td>0.080995</td>\n",
       "      <td>1.066216</td>\n",
       "      <td>0.331696</td>\n",
       "      <td>1.632340</td>\n",
       "    </tr>\n",
       "    <tr>\n",
       "      <th>2</th>\n",
       "      <td>300</td>\n",
       "      <td>0.9692</td>\n",
       "      <td>0.571864</td>\n",
       "      <td>0.840179</td>\n",
       "      <td>0.881250</td>\n",
       "      <td>0.000035</td>\n",
       "      <td>0.040214</td>\n",
       "      <td>0.397336</td>\n",
       "      <td>1.694809</td>\n",
       "      <td>0.041071</td>\n",
       "      <td>1.048884</td>\n",
       "    </tr>\n",
       "    <tr>\n",
       "      <th>3</th>\n",
       "      <td>400</td>\n",
       "      <td>0.4095</td>\n",
       "      <td>0.344924</td>\n",
       "      <td>0.887946</td>\n",
       "      <td>0.885938</td>\n",
       "      <td>0.000030</td>\n",
       "      <td>0.053619</td>\n",
       "      <td>0.064576</td>\n",
       "      <td>1.187217</td>\n",
       "      <td>-0.002009</td>\n",
       "      <td>0.997738</td>\n",
       "    </tr>\n",
       "    <tr>\n",
       "      <th>4</th>\n",
       "      <td>500</td>\n",
       "      <td>0.3444</td>\n",
       "      <td>0.330851</td>\n",
       "      <td>0.886161</td>\n",
       "      <td>0.896875</td>\n",
       "      <td>0.000025</td>\n",
       "      <td>0.067024</td>\n",
       "      <td>0.013549</td>\n",
       "      <td>1.040952</td>\n",
       "      <td>0.010714</td>\n",
       "      <td>1.012091</td>\n",
       "    </tr>\n",
       "    <tr>\n",
       "      <th>5</th>\n",
       "      <td>600</td>\n",
       "      <td>0.3336</td>\n",
       "      <td>0.337164</td>\n",
       "      <td>0.892857</td>\n",
       "      <td>0.889062</td>\n",
       "      <td>0.000020</td>\n",
       "      <td>0.080429</td>\n",
       "      <td>-0.003564</td>\n",
       "      <td>0.989429</td>\n",
       "      <td>-0.003795</td>\n",
       "      <td>0.995750</td>\n",
       "    </tr>\n",
       "    <tr>\n",
       "      <th>6</th>\n",
       "      <td>700</td>\n",
       "      <td>0.3231</td>\n",
       "      <td>0.330091</td>\n",
       "      <td>0.891518</td>\n",
       "      <td>0.893750</td>\n",
       "      <td>0.000015</td>\n",
       "      <td>0.093834</td>\n",
       "      <td>-0.006991</td>\n",
       "      <td>0.978820</td>\n",
       "      <td>0.002232</td>\n",
       "      <td>1.002504</td>\n",
       "    </tr>\n",
       "    <tr>\n",
       "      <th>7</th>\n",
       "      <td>800</td>\n",
       "      <td>0.3520</td>\n",
       "      <td>0.319913</td>\n",
       "      <td>0.882143</td>\n",
       "      <td>0.898438</td>\n",
       "      <td>0.000010</td>\n",
       "      <td>0.107239</td>\n",
       "      <td>0.032087</td>\n",
       "      <td>1.100299</td>\n",
       "      <td>0.016295</td>\n",
       "      <td>1.018472</td>\n",
       "    </tr>\n",
       "    <tr>\n",
       "      <th>8</th>\n",
       "      <td>900</td>\n",
       "      <td>0.3134</td>\n",
       "      <td>0.324369</td>\n",
       "      <td>0.895982</td>\n",
       "      <td>0.901563</td>\n",
       "      <td>0.000005</td>\n",
       "      <td>0.120643</td>\n",
       "      <td>-0.010969</td>\n",
       "      <td>0.966183</td>\n",
       "      <td>0.005580</td>\n",
       "      <td>1.006228</td>\n",
       "    </tr>\n",
       "    <tr>\n",
       "      <th>9</th>\n",
       "      <td>1000</td>\n",
       "      <td>0.3251</td>\n",
       "      <td>0.322706</td>\n",
       "      <td>0.891071</td>\n",
       "      <td>0.901563</td>\n",
       "      <td>0.000000</td>\n",
       "      <td>0.134048</td>\n",
       "      <td>0.002394</td>\n",
       "      <td>1.007418</td>\n",
       "      <td>0.010491</td>\n",
       "      <td>1.011774</td>\n",
       "    </tr>\n",
       "    <tr>\n",
       "      <th>10</th>\n",
       "      <td>1100</td>\n",
       "      <td>0.3356</td>\n",
       "      <td>0.316328</td>\n",
       "      <td>0.883750</td>\n",
       "      <td>0.904687</td>\n",
       "      <td>0.000023</td>\n",
       "      <td>0.147453</td>\n",
       "      <td>0.019272</td>\n",
       "      <td>1.060923</td>\n",
       "      <td>0.020937</td>\n",
       "      <td>1.023692</td>\n",
       "    </tr>\n",
       "    <tr>\n",
       "      <th>11</th>\n",
       "      <td>1200</td>\n",
       "      <td>0.3298</td>\n",
       "      <td>0.319687</td>\n",
       "      <td>0.895536</td>\n",
       "      <td>0.907813</td>\n",
       "      <td>0.000020</td>\n",
       "      <td>0.160858</td>\n",
       "      <td>0.010113</td>\n",
       "      <td>1.031634</td>\n",
       "      <td>0.012277</td>\n",
       "      <td>1.013709</td>\n",
       "    </tr>\n",
       "    <tr>\n",
       "      <th>12</th>\n",
       "      <td>1300</td>\n",
       "      <td>0.3652</td>\n",
       "      <td>0.319376</td>\n",
       "      <td>0.887946</td>\n",
       "      <td>0.903125</td>\n",
       "      <td>0.000017</td>\n",
       "      <td>0.174263</td>\n",
       "      <td>0.045824</td>\n",
       "      <td>1.143480</td>\n",
       "      <td>0.015179</td>\n",
       "      <td>1.017094</td>\n",
       "    </tr>\n",
       "    <tr>\n",
       "      <th>13</th>\n",
       "      <td>1400</td>\n",
       "      <td>0.3194</td>\n",
       "      <td>0.317062</td>\n",
       "      <td>0.901339</td>\n",
       "      <td>0.904687</td>\n",
       "      <td>0.000015</td>\n",
       "      <td>0.187668</td>\n",
       "      <td>0.002338</td>\n",
       "      <td>1.007374</td>\n",
       "      <td>0.003348</td>\n",
       "      <td>1.003715</td>\n",
       "    </tr>\n",
       "    <tr>\n",
       "      <th>14</th>\n",
       "      <td>1500</td>\n",
       "      <td>0.3241</td>\n",
       "      <td>0.313968</td>\n",
       "      <td>0.899554</td>\n",
       "      <td>0.904687</td>\n",
       "      <td>0.000013</td>\n",
       "      <td>0.201072</td>\n",
       "      <td>0.010132</td>\n",
       "      <td>1.032271</td>\n",
       "      <td>0.005134</td>\n",
       "      <td>1.005707</td>\n",
       "    </tr>\n",
       "    <tr>\n",
       "      <th>15</th>\n",
       "      <td>1600</td>\n",
       "      <td>0.3449</td>\n",
       "      <td>0.312618</td>\n",
       "      <td>0.894196</td>\n",
       "      <td>0.907813</td>\n",
       "      <td>0.000010</td>\n",
       "      <td>0.214477</td>\n",
       "      <td>0.032282</td>\n",
       "      <td>1.103263</td>\n",
       "      <td>0.013616</td>\n",
       "      <td>1.015227</td>\n",
       "    </tr>\n",
       "    <tr>\n",
       "      <th>16</th>\n",
       "      <td>1700</td>\n",
       "      <td>0.2895</td>\n",
       "      <td>0.320132</td>\n",
       "      <td>0.908036</td>\n",
       "      <td>0.906250</td>\n",
       "      <td>0.000008</td>\n",
       "      <td>0.227882</td>\n",
       "      <td>-0.030632</td>\n",
       "      <td>0.904313</td>\n",
       "      <td>-0.001786</td>\n",
       "      <td>0.998033</td>\n",
       "    </tr>\n",
       "    <tr>\n",
       "      <th>17</th>\n",
       "      <td>1800</td>\n",
       "      <td>0.3149</td>\n",
       "      <td>0.317842</td>\n",
       "      <td>0.904464</td>\n",
       "      <td>0.909375</td>\n",
       "      <td>0.000005</td>\n",
       "      <td>0.241287</td>\n",
       "      <td>-0.002942</td>\n",
       "      <td>0.990744</td>\n",
       "      <td>0.004911</td>\n",
       "      <td>1.005429</td>\n",
       "    </tr>\n",
       "    <tr>\n",
       "      <th>18</th>\n",
       "      <td>1900</td>\n",
       "      <td>0.2914</td>\n",
       "      <td>0.316353</td>\n",
       "      <td>0.905804</td>\n",
       "      <td>0.910937</td>\n",
       "      <td>0.000003</td>\n",
       "      <td>0.254692</td>\n",
       "      <td>-0.024953</td>\n",
       "      <td>0.921123</td>\n",
       "      <td>0.005134</td>\n",
       "      <td>1.005668</td>\n",
       "    </tr>\n",
       "    <tr>\n",
       "      <th>19</th>\n",
       "      <td>2000</td>\n",
       "      <td>0.3566</td>\n",
       "      <td>0.315619</td>\n",
       "      <td>0.898214</td>\n",
       "      <td>0.912500</td>\n",
       "      <td>0.000000</td>\n",
       "      <td>0.268097</td>\n",
       "      <td>0.040981</td>\n",
       "      <td>1.129843</td>\n",
       "      <td>0.014286</td>\n",
       "      <td>1.015905</td>\n",
       "    </tr>\n",
       "    <tr>\n",
       "      <th>20</th>\n",
       "      <td>2100</td>\n",
       "      <td>0.3150</td>\n",
       "      <td>0.312526</td>\n",
       "      <td>0.892500</td>\n",
       "      <td>0.912500</td>\n",
       "      <td>0.000015</td>\n",
       "      <td>0.281501</td>\n",
       "      <td>0.002474</td>\n",
       "      <td>1.007918</td>\n",
       "      <td>0.020000</td>\n",
       "      <td>1.022409</td>\n",
       "    </tr>\n",
       "    <tr>\n",
       "      <th>21</th>\n",
       "      <td>2200</td>\n",
       "      <td>0.3123</td>\n",
       "      <td>0.311966</td>\n",
       "      <td>0.896429</td>\n",
       "      <td>0.910937</td>\n",
       "      <td>0.000013</td>\n",
       "      <td>0.294906</td>\n",
       "      <td>0.000334</td>\n",
       "      <td>1.001070</td>\n",
       "      <td>0.014509</td>\n",
       "      <td>1.016185</td>\n",
       "    </tr>\n",
       "    <tr>\n",
       "      <th>22</th>\n",
       "      <td>2300</td>\n",
       "      <td>0.3042</td>\n",
       "      <td>0.311071</td>\n",
       "      <td>0.901786</td>\n",
       "      <td>0.906250</td>\n",
       "      <td>0.000012</td>\n",
       "      <td>0.308311</td>\n",
       "      <td>-0.006871</td>\n",
       "      <td>0.977910</td>\n",
       "      <td>0.004464</td>\n",
       "      <td>1.004950</td>\n",
       "    </tr>\n",
       "    <tr>\n",
       "      <th>23</th>\n",
       "      <td>2400</td>\n",
       "      <td>0.3236</td>\n",
       "      <td>0.313114</td>\n",
       "      <td>0.891518</td>\n",
       "      <td>0.907813</td>\n",
       "      <td>0.000010</td>\n",
       "      <td>0.321716</td>\n",
       "      <td>0.010486</td>\n",
       "      <td>1.033489</td>\n",
       "      <td>0.016295</td>\n",
       "      <td>1.018277</td>\n",
       "    </tr>\n",
       "    <tr>\n",
       "      <th>24</th>\n",
       "      <td>2500</td>\n",
       "      <td>0.2972</td>\n",
       "      <td>0.311272</td>\n",
       "      <td>0.895536</td>\n",
       "      <td>0.909375</td>\n",
       "      <td>0.000008</td>\n",
       "      <td>0.335121</td>\n",
       "      <td>-0.014072</td>\n",
       "      <td>0.954793</td>\n",
       "      <td>0.013839</td>\n",
       "      <td>1.015454</td>\n",
       "    </tr>\n",
       "    <tr>\n",
       "      <th>25</th>\n",
       "      <td>2600</td>\n",
       "      <td>0.2847</td>\n",
       "      <td>0.312168</td>\n",
       "      <td>0.903571</td>\n",
       "      <td>0.907813</td>\n",
       "      <td>0.000007</td>\n",
       "      <td>0.348525</td>\n",
       "      <td>-0.027468</td>\n",
       "      <td>0.912010</td>\n",
       "      <td>0.004241</td>\n",
       "      <td>1.004694</td>\n",
       "    </tr>\n",
       "    <tr>\n",
       "      <th>26</th>\n",
       "      <td>2700</td>\n",
       "      <td>0.2828</td>\n",
       "      <td>0.313690</td>\n",
       "      <td>0.902679</td>\n",
       "      <td>0.912500</td>\n",
       "      <td>0.000005</td>\n",
       "      <td>0.361930</td>\n",
       "      <td>-0.030890</td>\n",
       "      <td>0.901528</td>\n",
       "      <td>0.009821</td>\n",
       "      <td>1.010880</td>\n",
       "    </tr>\n",
       "    <tr>\n",
       "      <th>27</th>\n",
       "      <td>2800</td>\n",
       "      <td>0.2840</td>\n",
       "      <td>0.312248</td>\n",
       "      <td>0.908482</td>\n",
       "      <td>0.906250</td>\n",
       "      <td>0.000003</td>\n",
       "      <td>0.375335</td>\n",
       "      <td>-0.028248</td>\n",
       "      <td>0.909532</td>\n",
       "      <td>-0.002232</td>\n",
       "      <td>0.997543</td>\n",
       "    </tr>\n",
       "    <tr>\n",
       "      <th>28</th>\n",
       "      <td>2900</td>\n",
       "      <td>0.3046</td>\n",
       "      <td>0.313179</td>\n",
       "      <td>0.901786</td>\n",
       "      <td>0.906250</td>\n",
       "      <td>0.000002</td>\n",
       "      <td>0.388740</td>\n",
       "      <td>-0.008579</td>\n",
       "      <td>0.972608</td>\n",
       "      <td>0.004464</td>\n",
       "      <td>1.004950</td>\n",
       "    </tr>\n",
       "    <tr>\n",
       "      <th>29</th>\n",
       "      <td>3000</td>\n",
       "      <td>0.3012</td>\n",
       "      <td>0.313317</td>\n",
       "      <td>0.902679</td>\n",
       "      <td>0.906250</td>\n",
       "      <td>0.000000</td>\n",
       "      <td>0.402145</td>\n",
       "      <td>-0.012117</td>\n",
       "      <td>0.961326</td>\n",
       "      <td>0.003571</td>\n",
       "      <td>1.003956</td>\n",
       "    </tr>\n",
       "  </tbody>\n",
       "</table>\n",
       "</div>"
      ],
      "text/plain": [
       "    Step  Train Loss  Test Loss  Train Acc  Test Acc  Learning Rate    Epochs  \\\n",
       "0    100      1.3727   1.347814   0.345000  0.464062       0.000045  0.013405   \n",
       "1    200      1.3042   1.223205   0.524554  0.856250       0.000040  0.026810   \n",
       "2    300      0.9692   0.571864   0.840179  0.881250       0.000035  0.040214   \n",
       "3    400      0.4095   0.344924   0.887946  0.885938       0.000030  0.053619   \n",
       "4    500      0.3444   0.330851   0.886161  0.896875       0.000025  0.067024   \n",
       "5    600      0.3336   0.337164   0.892857  0.889062       0.000020  0.080429   \n",
       "6    700      0.3231   0.330091   0.891518  0.893750       0.000015  0.093834   \n",
       "7    800      0.3520   0.319913   0.882143  0.898438       0.000010  0.107239   \n",
       "8    900      0.3134   0.324369   0.895982  0.901563       0.000005  0.120643   \n",
       "9   1000      0.3251   0.322706   0.891071  0.901563       0.000000  0.134048   \n",
       "10  1100      0.3356   0.316328   0.883750  0.904687       0.000023  0.147453   \n",
       "11  1200      0.3298   0.319687   0.895536  0.907813       0.000020  0.160858   \n",
       "12  1300      0.3652   0.319376   0.887946  0.903125       0.000017  0.174263   \n",
       "13  1400      0.3194   0.317062   0.901339  0.904687       0.000015  0.187668   \n",
       "14  1500      0.3241   0.313968   0.899554  0.904687       0.000013  0.201072   \n",
       "15  1600      0.3449   0.312618   0.894196  0.907813       0.000010  0.214477   \n",
       "16  1700      0.2895   0.320132   0.908036  0.906250       0.000008  0.227882   \n",
       "17  1800      0.3149   0.317842   0.904464  0.909375       0.000005  0.241287   \n",
       "18  1900      0.2914   0.316353   0.905804  0.910937       0.000003  0.254692   \n",
       "19  2000      0.3566   0.315619   0.898214  0.912500       0.000000  0.268097   \n",
       "20  2100      0.3150   0.312526   0.892500  0.912500       0.000015  0.281501   \n",
       "21  2200      0.3123   0.311966   0.896429  0.910937       0.000013  0.294906   \n",
       "22  2300      0.3042   0.311071   0.901786  0.906250       0.000012  0.308311   \n",
       "23  2400      0.3236   0.313114   0.891518  0.907813       0.000010  0.321716   \n",
       "24  2500      0.2972   0.311272   0.895536  0.909375       0.000008  0.335121   \n",
       "25  2600      0.2847   0.312168   0.903571  0.907813       0.000007  0.348525   \n",
       "26  2700      0.2828   0.313690   0.902679  0.912500       0.000005  0.361930   \n",
       "27  2800      0.2840   0.312248   0.908482  0.906250       0.000003  0.375335   \n",
       "28  2900      0.3046   0.313179   0.901786  0.906250       0.000002  0.388740   \n",
       "29  3000      0.3012   0.313317   0.902679  0.906250       0.000000  0.402145   \n",
       "\n",
       "    loss spread  loss ratio  Acc spread  Acc ratio  \n",
       "0      0.024886    1.018464    0.119063   1.345109  \n",
       "1      0.080995    1.066216    0.331696   1.632340  \n",
       "2      0.397336    1.694809    0.041071   1.048884  \n",
       "3      0.064576    1.187217   -0.002009   0.997738  \n",
       "4      0.013549    1.040952    0.010714   1.012091  \n",
       "5     -0.003564    0.989429   -0.003795   0.995750  \n",
       "6     -0.006991    0.978820    0.002232   1.002504  \n",
       "7      0.032087    1.100299    0.016295   1.018472  \n",
       "8     -0.010969    0.966183    0.005580   1.006228  \n",
       "9      0.002394    1.007418    0.010491   1.011774  \n",
       "10     0.019272    1.060923    0.020937   1.023692  \n",
       "11     0.010113    1.031634    0.012277   1.013709  \n",
       "12     0.045824    1.143480    0.015179   1.017094  \n",
       "13     0.002338    1.007374    0.003348   1.003715  \n",
       "14     0.010132    1.032271    0.005134   1.005707  \n",
       "15     0.032282    1.103263    0.013616   1.015227  \n",
       "16    -0.030632    0.904313   -0.001786   0.998033  \n",
       "17    -0.002942    0.990744    0.004911   1.005429  \n",
       "18    -0.024953    0.921123    0.005134   1.005668  \n",
       "19     0.040981    1.129843    0.014286   1.015905  \n",
       "20     0.002474    1.007918    0.020000   1.022409  \n",
       "21     0.000334    1.001070    0.014509   1.016185  \n",
       "22    -0.006871    0.977910    0.004464   1.004950  \n",
       "23     0.010486    1.033489    0.016295   1.018277  \n",
       "24    -0.014072    0.954793    0.013839   1.015454  \n",
       "25    -0.027468    0.912010    0.004241   1.004694  \n",
       "26    -0.030890    0.901528    0.009821   1.010880  \n",
       "27    -0.028248    0.909532   -0.002232   0.997543  \n",
       "28    -0.008579    0.972608    0.004464   1.004950  \n",
       "29    -0.012117    0.961326    0.003571   1.003956  "
      ]
     },
     "execution_count": 6,
     "metadata": {},
     "output_type": "execute_result"
    }
   ],
   "source": [
    "# Show all checkpoint metrics (including spread and ratio)\n",
    "\n",
    "import os\n",
    "import pandas as pd\n",
    "\n",
    "# Define paths\n",
    "csv_path = \"/kaggle/working/saved_models/checkpoint-3000/log_history.csv\"\n",
    "output_dir = \"/kaggle/working/processed_data\"\n",
    "output_csv = os.path.join(output_dir, \"processed_log_history.csv\")\n",
    "\n",
    "# Create the output directory if it doesn't exist\n",
    "os.makedirs(output_dir, exist_ok=True)\n",
    "\n",
    "# Read the csv file\n",
    "df = pd.read_csv(csv_path)\n",
    "\n",
    "# Select desired columns and reorder the dataframe\n",
    "desired_order = [\n",
    "    \"step\",         \n",
    "    \"loss\",         \n",
    "    \"eval_loss\",   \n",
    "    \"accuracy\",     \n",
    "    \"eval_accuracy\",\n",
    "    \"learning_rate\",\n",
    "    \"epoch\"         \n",
    "]\n",
    "df = df[desired_order]\n",
    "\n",
    "# Rename columns for uniformity\n",
    "df.rename(columns={\n",
    "    \"step\": \"Step\",\n",
    "    \"loss\": \"Train Loss\",\n",
    "    \"eval_loss\": \"Test Loss\",\n",
    "    \"accuracy\": \"Train Acc\",\n",
    "    \"eval_accuracy\": \"Test Acc\",\n",
    "    \"learning_rate\": \"Learning Rate\",\n",
    "    \"epoch\": \"Epochs\"\n",
    "}, inplace=True)\n",
    "\n",
    "# Adding loss spread and loss ratio columns\n",
    "df[\"loss spread\"] = df[\"Train Loss\"] - df[\"Test Loss\"]\n",
    "df[\"loss ratio\"] = df[\"Train Loss\"] / df[\"Test Loss\"]\n",
    "\n",
    "# Adding acc spread and acc ratio columns\n",
    "df[\"Acc spread\"] = df[\"Test Acc\"] - df[\"Train Acc\"]\n",
    "df[\"Acc ratio\"] = df[\"Test Acc\"] / df[\"Train Acc\"]\n",
    "\n",
    "# Export the DataFrame as a csv file\n",
    "df.to_csv(output_csv, index=False)\n",
    "\n",
    "print(f\"Data exported to {output_csv}\")\n",
    "\n",
    "df"
   ]
  },
  {
   "cell_type": "code",
   "execution_count": null,
   "metadata": {
    "execution": {
     "iopub.execute_input": "2025-04-13T01:18:15.465927Z",
     "iopub.status.busy": "2025-04-13T01:18:15.465614Z",
     "iopub.status.idle": "2025-04-13T01:19:21.802172Z",
     "shell.execute_reply": "2025-04-13T01:19:21.801141Z",
     "shell.execute_reply.started": "2025-04-13T01:18:15.465901Z"
    },
    "trusted": true
   },
   "outputs": [
    {
     "data": {
      "application/vnd.jupyter.widget-view+json": {
       "model_id": "3023f6c14edd443a9aedef85f34dad97",
       "version_major": 2,
       "version_minor": 0
      },
      "text/plain": [
       "Map:   0%|          | 0/8000 [00:00<?, ? examples/s]"
      ]
     },
     "metadata": {},
     "output_type": "display_data"
    },
    {
     "name": "stderr",
     "output_type": "stream",
     "text": [
      "Some weights of RobertaForSequenceClassification were not initialized from the model checkpoint at roberta-base and are newly initialized: ['classifier.dense.bias', 'classifier.dense.weight', 'classifier.out_proj.bias', 'classifier.out_proj.weight']\n",
      "You should probably TRAIN this model on a down-stream task to be able to use it for predictions and inference.\n"
     ]
    },
    {
     "name": "stdout",
     "output_type": "stream",
     "text": [
      "Running inference...\n"
     ]
    },
    {
     "name": "stderr",
     "output_type": "stream",
     "text": [
      "100%|██████████| 250/250 [00:58<00:00,  4.25it/s]"
     ]
    },
    {
     "name": "stdout",
     "output_type": "stream",
     "text": [
      "Predictions saved to /kaggle/working/saved_predictions/predictions_checkpoint-2100.csv\n"
     ]
    },
    {
     "name": "stderr",
     "output_type": "stream",
     "text": [
      "\n"
     ]
    }
   ],
   "source": [
    "# Inference\n",
    "\n",
    "from inference import main as inference\n",
    "\n",
    "data_path = '/kaggle/input/deep-learning-spring-2025-project-2/test_unlabelled.pkl'\n",
    "checkpoint = '/kaggle/working/saved_models/checkpoint-2100' # best test acc, smallest loss spread\n",
    "output_dir = '/kaggle/working/saved_predictions'\n",
    "\n",
    "inference(data_path, checkpoint, output_dir)"
   ]
  },
  {
   "cell_type": "code",
   "execution_count": null,
   "metadata": {
    "execution": {
     "iopub.execute_input": "2025-04-13T01:19:33.589552Z",
     "iopub.status.busy": "2025-04-13T01:19:33.589252Z",
     "iopub.status.idle": "2025-04-13T01:20:40.284286Z",
     "shell.execute_reply": "2025-04-13T01:20:40.283345Z",
     "shell.execute_reply.started": "2025-04-13T01:19:33.589529Z"
    },
    "trusted": true
   },
   "outputs": [
    {
     "data": {
      "application/vnd.jupyter.widget-view+json": {
       "model_id": "55db5918781443e19294bccb590f35ee",
       "version_major": 2,
       "version_minor": 0
      },
      "text/plain": [
       "Map:   0%|          | 0/8000 [00:00<?, ? examples/s]"
      ]
     },
     "metadata": {},
     "output_type": "display_data"
    },
    {
     "name": "stderr",
     "output_type": "stream",
     "text": [
      "Some weights of RobertaForSequenceClassification were not initialized from the model checkpoint at roberta-base and are newly initialized: ['classifier.dense.bias', 'classifier.dense.weight', 'classifier.out_proj.bias', 'classifier.out_proj.weight']\n",
      "You should probably TRAIN this model on a down-stream task to be able to use it for predictions and inference.\n"
     ]
    },
    {
     "name": "stdout",
     "output_type": "stream",
     "text": [
      "Running inference...\n"
     ]
    },
    {
     "name": "stderr",
     "output_type": "stream",
     "text": [
      "100%|██████████| 250/250 [00:58<00:00,  4.24it/s]"
     ]
    },
    {
     "name": "stdout",
     "output_type": "stream",
     "text": [
      "Predictions saved to /kaggle/working/saved_predictions/predictions_checkpoint-2700.csv\n"
     ]
    },
    {
     "name": "stderr",
     "output_type": "stream",
     "text": [
      "\n"
     ]
    }
   ],
   "source": [
    "checkpoint = '/kaggle/working/saved_models/checkpoint-2700' # best test acc, smallest acc spread\n",
    "\n",
    "inference(data_path, checkpoint, output_dir)"
   ]
  }
 ],
 "metadata": {
  "kaggle": {
   "accelerator": "gpu",
   "dataSources": [
    {
     "databundleVersionId": 11711500,
     "sourceId": 98084,
     "sourceType": "competition"
    }
   ],
   "dockerImageVersionId": 30918,
   "isGpuEnabled": true,
   "isInternetEnabled": true,
   "language": "python",
   "sourceType": "notebook"
  },
  "kernelspec": {
   "display_name": "Python 3",
   "language": "python",
   "name": "python3"
  },
  "language_info": {
   "codemirror_mode": {
    "name": "ipython",
    "version": 3
   },
   "file_extension": ".py",
   "mimetype": "text/x-python",
   "name": "python",
   "nbconvert_exporter": "python",
   "pygments_lexer": "ipython3",
   "version": "3.10.12"
  }
 },
 "nbformat": 4,
 "nbformat_minor": 4
}
