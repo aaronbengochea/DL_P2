{
 "cells": [
  {
   "cell_type": "code",
   "execution_count": 1,
   "metadata": {
    "execution": {
     "iopub.execute_input": "2025-04-13T01:26:41.337835Z",
     "iopub.status.busy": "2025-04-13T01:26:41.337565Z",
     "iopub.status.idle": "2025-04-13T01:26:42.126447Z",
     "shell.execute_reply": "2025-04-13T01:26:42.125430Z",
     "shell.execute_reply.started": "2025-04-13T01:26:41.337805Z"
    },
    "trusted": true
   },
   "outputs": [
    {
     "name": "stdout",
     "output_type": "stream",
     "text": [
      "Cloning into 'agnews-classifier'...\n",
      "remote: Enumerating objects: 27, done.\u001b[K\n",
      "remote: Counting objects: 100% (27/27), done.\u001b[K\n",
      "remote: Compressing objects: 100% (19/19), done.\u001b[K\n",
      "remote: Total 27 (delta 10), reused 23 (delta 6), pack-reused 0 (from 0)\u001b[K\n",
      "Receiving objects: 100% (27/27), 6.89 KiB | 2.30 MiB/s, done.\n",
      "Resolving deltas: 100% (10/10), done.\n",
      "/kaggle/working/agnews-classifier\n"
     ]
    }
   ],
   "source": [
    "!git clone https://github.com/timothycao/agnews-classifier.git\n",
    "%cd agnews-classifier"
   ]
  },
  {
   "cell_type": "code",
   "execution_count": 2,
   "metadata": {
    "execution": {
     "iopub.execute_input": "2025-04-13T01:26:44.659769Z",
     "iopub.status.busy": "2025-04-13T01:26:44.659344Z",
     "iopub.status.idle": "2025-04-13T01:27:07.715866Z",
     "shell.execute_reply": "2025-04-13T01:27:07.715011Z",
     "shell.execute_reply.started": "2025-04-13T01:26:44.659730Z"
    },
    "trusted": true
   },
   "outputs": [
    {
     "data": {
      "application/vnd.jupyter.widget-view+json": {
       "model_id": "0c48b8ee536e4d9f97ca93300a4f347c",
       "version_major": 2,
       "version_minor": 0
      },
      "text/plain": [
       "config.json:   0%|          | 0.00/481 [00:00<?, ?B/s]"
      ]
     },
     "metadata": {},
     "output_type": "display_data"
    },
    {
     "data": {
      "application/vnd.jupyter.widget-view+json": {
       "model_id": "6f3b1ab316d146f5a10ed0046511de6f",
       "version_major": 2,
       "version_minor": 0
      },
      "text/plain": [
       "model.safetensors:   0%|          | 0.00/499M [00:00<?, ?B/s]"
      ]
     },
     "metadata": {},
     "output_type": "display_data"
    },
    {
     "name": "stderr",
     "output_type": "stream",
     "text": [
      "Some weights of RobertaForSequenceClassification were not initialized from the model checkpoint at roberta-base and are newly initialized: ['classifier.dense.bias', 'classifier.dense.weight', 'classifier.out_proj.bias', 'classifier.out_proj.weight']\n",
      "You should probably TRAIN this model on a down-stream task to be able to use it for predictions and inference.\n"
     ]
    },
    {
     "name": "stdout",
     "output_type": "stream",
     "text": [
      "trainable params: 630,532 || all params: 125,279,240 || trainable%: 0.5033\n"
     ]
    }
   ],
   "source": [
    "# Model\n",
    "\n",
    "from peft import LoraConfig\n",
    "from model import create_lora_model\n",
    "\n",
    "lora_config = LoraConfig(\n",
    "    r=2,\n",
    "    lora_alpha=4,\n",
    "    lora_dropout=0.1,\n",
    "    bias='none',\n",
    "    target_modules=['query'],\n",
    "    task_type='SEQ_CLS'\n",
    ")\n",
    "\n",
    "model = create_lora_model(lora_config)"
   ]
  },
  {
   "cell_type": "code",
   "execution_count": 3,
   "metadata": {
    "execution": {
     "iopub.execute_input": "2025-04-13T01:27:14.890234Z",
     "iopub.status.busy": "2025-04-13T01:27:14.889657Z",
     "iopub.status.idle": "2025-04-13T01:36:19.482635Z",
     "shell.execute_reply": "2025-04-13T01:36:19.481612Z",
     "shell.execute_reply.started": "2025-04-13T01:27:14.890191Z"
    },
    "trusted": true
   },
   "outputs": [
    {
     "data": {
      "application/vnd.jupyter.widget-view+json": {
       "model_id": "1d0cff17f58a4aaca85791693f2b266e",
       "version_major": 2,
       "version_minor": 0
      },
      "text/plain": [
       "tokenizer_config.json:   0%|          | 0.00/25.0 [00:00<?, ?B/s]"
      ]
     },
     "metadata": {},
     "output_type": "display_data"
    },
    {
     "data": {
      "application/vnd.jupyter.widget-view+json": {
       "model_id": "ad70ee6aa92e44d18e9766e3f950ea68",
       "version_major": 2,
       "version_minor": 0
      },
      "text/plain": [
       "vocab.json:   0%|          | 0.00/899k [00:00<?, ?B/s]"
      ]
     },
     "metadata": {},
     "output_type": "display_data"
    },
    {
     "data": {
      "application/vnd.jupyter.widget-view+json": {
       "model_id": "02937532edf9429bbfc9c0f45c898b0b",
       "version_major": 2,
       "version_minor": 0
      },
      "text/plain": [
       "merges.txt:   0%|          | 0.00/456k [00:00<?, ?B/s]"
      ]
     },
     "metadata": {},
     "output_type": "display_data"
    },
    {
     "data": {
      "application/vnd.jupyter.widget-view+json": {
       "model_id": "7395a1a7f4ea4da08e96dba36d42f518",
       "version_major": 2,
       "version_minor": 0
      },
      "text/plain": [
       "tokenizer.json:   0%|          | 0.00/1.36M [00:00<?, ?B/s]"
      ]
     },
     "metadata": {},
     "output_type": "display_data"
    },
    {
     "data": {
      "application/vnd.jupyter.widget-view+json": {
       "model_id": "afbf33cea3774011ba7fde04a016cb26",
       "version_major": 2,
       "version_minor": 0
      },
      "text/plain": [
       "README.md:   0%|          | 0.00/8.07k [00:00<?, ?B/s]"
      ]
     },
     "metadata": {},
     "output_type": "display_data"
    },
    {
     "data": {
      "application/vnd.jupyter.widget-view+json": {
       "model_id": "1be235a67f0a4f099303f7a3fbedc0c1",
       "version_major": 2,
       "version_minor": 0
      },
      "text/plain": [
       "train-00000-of-00001.parquet:   0%|          | 0.00/18.6M [00:00<?, ?B/s]"
      ]
     },
     "metadata": {},
     "output_type": "display_data"
    },
    {
     "data": {
      "application/vnd.jupyter.widget-view+json": {
       "model_id": "2dd1ad276be0496fa4a4286772df2c1a",
       "version_major": 2,
       "version_minor": 0
      },
      "text/plain": [
       "test-00000-of-00001.parquet:   0%|          | 0.00/1.23M [00:00<?, ?B/s]"
      ]
     },
     "metadata": {},
     "output_type": "display_data"
    },
    {
     "data": {
      "application/vnd.jupyter.widget-view+json": {
       "model_id": "9e926d50fcc845c2aaba1e4f2a9941e1",
       "version_major": 2,
       "version_minor": 0
      },
      "text/plain": [
       "Generating train split:   0%|          | 0/120000 [00:00<?, ? examples/s]"
      ]
     },
     "metadata": {},
     "output_type": "display_data"
    },
    {
     "data": {
      "application/vnd.jupyter.widget-view+json": {
       "model_id": "c25198791be74e60bbf016a653e8c40e",
       "version_major": 2,
       "version_minor": 0
      },
      "text/plain": [
       "Generating test split:   0%|          | 0/7600 [00:00<?, ? examples/s]"
      ]
     },
     "metadata": {},
     "output_type": "display_data"
    },
    {
     "data": {
      "application/vnd.jupyter.widget-view+json": {
       "model_id": "209e819862dd446ebe3c0f669f57c2d1",
       "version_major": 2,
       "version_minor": 0
      },
      "text/plain": [
       "Map:   0%|          | 0/120000 [00:00<?, ? examples/s]"
      ]
     },
     "metadata": {},
     "output_type": "display_data"
    },
    {
     "name": "stdout",
     "output_type": "stream",
     "text": [
      "Starting training...\n"
     ]
    },
    {
     "data": {
      "text/html": [
       "\n",
       "    <div>\n",
       "      \n",
       "      <progress value='1000' max='1000' style='width:300px; height:20px; vertical-align: middle;'></progress>\n",
       "      [1000/1000 07:52, Epoch 0/1]\n",
       "    </div>\n",
       "    <table border=\"1\" class=\"dataframe\">\n",
       "  <thead>\n",
       " <tr style=\"text-align: left;\">\n",
       "      <th>Step</th>\n",
       "      <th>Training Loss</th>\n",
       "      <th>Validation Loss</th>\n",
       "      <th>Accuracy</th>\n",
       "    </tr>\n",
       "  </thead>\n",
       "  <tbody>\n",
       "    <tr>\n",
       "      <td>100</td>\n",
       "      <td>1.375000</td>\n",
       "      <td>1.346531</td>\n",
       "      <td>0.679688</td>\n",
       "    </tr>\n",
       "    <tr>\n",
       "      <td>200</td>\n",
       "      <td>1.326700</td>\n",
       "      <td>1.293006</td>\n",
       "      <td>0.792188</td>\n",
       "    </tr>\n",
       "    <tr>\n",
       "      <td>300</td>\n",
       "      <td>1.251300</td>\n",
       "      <td>1.203092</td>\n",
       "      <td>0.835938</td>\n",
       "    </tr>\n",
       "    <tr>\n",
       "      <td>400</td>\n",
       "      <td>1.125100</td>\n",
       "      <td>1.042130</td>\n",
       "      <td>0.851562</td>\n",
       "    </tr>\n",
       "    <tr>\n",
       "      <td>500</td>\n",
       "      <td>0.942000</td>\n",
       "      <td>0.827852</td>\n",
       "      <td>0.875000</td>\n",
       "    </tr>\n",
       "    <tr>\n",
       "      <td>600</td>\n",
       "      <td>0.748300</td>\n",
       "      <td>0.645808</td>\n",
       "      <td>0.881250</td>\n",
       "    </tr>\n",
       "    <tr>\n",
       "      <td>700</td>\n",
       "      <td>0.624700</td>\n",
       "      <td>0.527240</td>\n",
       "      <td>0.875000</td>\n",
       "    </tr>\n",
       "    <tr>\n",
       "      <td>800</td>\n",
       "      <td>0.568400</td>\n",
       "      <td>0.472586</td>\n",
       "      <td>0.873437</td>\n",
       "    </tr>\n",
       "    <tr>\n",
       "      <td>900</td>\n",
       "      <td>0.505000</td>\n",
       "      <td>0.443311</td>\n",
       "      <td>0.873437</td>\n",
       "    </tr>\n",
       "    <tr>\n",
       "      <td>1000</td>\n",
       "      <td>0.503200</td>\n",
       "      <td>0.435248</td>\n",
       "      <td>0.876563</td>\n",
       "    </tr>\n",
       "  </tbody>\n",
       "</table><p>"
      ],
      "text/plain": [
       "<IPython.core.display.HTML object>"
      ]
     },
     "metadata": {},
     "output_type": "display_data"
    }
   ],
   "source": [
    "# Training\n",
    "\n",
    "from transformers import TrainingArguments\n",
    "from train import main as train\n",
    "\n",
    "training_args = TrainingArguments(\n",
    "    # Core training configs\n",
    "    max_steps=1000,\n",
    "    per_device_train_batch_size=16,\n",
    "    per_device_eval_batch_size=64,\n",
    "    optim='adamw_torch',\n",
    "    lr_scheduler_type='linear',\n",
    "    learning_rate=5e-5,\n",
    "\n",
    "    # Logging, evaluation, and checkpointing\n",
    "    logging_strategy='steps',\n",
    "    logging_steps=100,\n",
    "    eval_strategy='steps',\n",
    "    eval_steps=100,\n",
    "    output_dir='/kaggle/working/saved_models',\n",
    "    save_strategy='steps',\n",
    "    save_steps=100,\n",
    "\n",
    "    # Miscellaneous\n",
    "    report_to='none',\n",
    "    dataloader_num_workers=4,\n",
    "    gradient_checkpointing=False,\n",
    "    gradient_checkpointing_kwargs={'use_reentrant':True}\n",
    ")\n",
    "\n",
    "train(model, training_args)"
   ]
  },
  {
   "cell_type": "code",
   "execution_count": 4,
   "metadata": {
    "execution": {
     "iopub.execute_input": "2025-04-13T01:36:24.894840Z",
     "iopub.status.busy": "2025-04-13T01:36:24.894475Z",
     "iopub.status.idle": "2025-04-13T01:44:23.544018Z",
     "shell.execute_reply": "2025-04-13T01:44:23.543178Z",
     "shell.execute_reply.started": "2025-04-13T01:36:24.894804Z"
    },
    "trusted": true
   },
   "outputs": [
    {
     "name": "stdout",
     "output_type": "stream",
     "text": [
      "Starting training...\n",
      "Resuming from checkpoint: /kaggle/working/saved_models/checkpoint-1000\n"
     ]
    },
    {
     "name": "stderr",
     "output_type": "stream",
     "text": [
      "/usr/local/lib/python3.10/dist-packages/transformers/trainer.py:3418: FutureWarning: You are using `torch.load` with `weights_only=False` (the current default value), which uses the default pickle module implicitly. It is possible to construct malicious pickle data which will execute arbitrary code during unpickling (See https://github.com/pytorch/pytorch/blob/main/SECURITY.md#untrusted-models for more details). In a future release, the default value for `weights_only` will be flipped to `True`. This limits the functions that could be executed during unpickling. Arbitrary objects will no longer be allowed to be loaded via this mode unless they are explicitly allowlisted by the user via `torch.serialization.add_safe_globals`. We recommend you start setting `weights_only=True` for any use case where you don't have full control of the loaded file. Please open an issue on GitHub for any issues related to this experimental feature.\n",
      "  torch.load(os.path.join(checkpoint, OPTIMIZER_NAME), map_location=map_location)\n",
      "/usr/local/lib/python3.10/dist-packages/transformers/trainer.py:3081: FutureWarning: You are using `torch.load` with `weights_only=False` (the current default value), which uses the default pickle module implicitly. It is possible to construct malicious pickle data which will execute arbitrary code during unpickling (See https://github.com/pytorch/pytorch/blob/main/SECURITY.md#untrusted-models for more details). In a future release, the default value for `weights_only` will be flipped to `True`. This limits the functions that could be executed during unpickling. Arbitrary objects will no longer be allowed to be loaded via this mode unless they are explicitly allowlisted by the user via `torch.serialization.add_safe_globals`. We recommend you start setting `weights_only=True` for any use case where you don't have full control of the loaded file. Please open an issue on GitHub for any issues related to this experimental feature.\n",
      "  checkpoint_rng_state = torch.load(rng_file)\n"
     ]
    },
    {
     "data": {
      "text/html": [
       "\n",
       "    <div>\n",
       "      \n",
       "      <progress value='2000' max='2000' style='width:300px; height:20px; vertical-align: middle;'></progress>\n",
       "      [2000/2000 07:53, Epoch 0/1]\n",
       "    </div>\n",
       "    <table border=\"1\" class=\"dataframe\">\n",
       "  <thead>\n",
       " <tr style=\"text-align: left;\">\n",
       "      <th>Step</th>\n",
       "      <th>Training Loss</th>\n",
       "      <th>Validation Loss</th>\n",
       "      <th>Accuracy</th>\n",
       "    </tr>\n",
       "  </thead>\n",
       "  <tbody>\n",
       "    <tr>\n",
       "      <td>1100</td>\n",
       "      <td>0.482000</td>\n",
       "      <td>0.382907</td>\n",
       "      <td>0.882812</td>\n",
       "    </tr>\n",
       "    <tr>\n",
       "      <td>1200</td>\n",
       "      <td>0.434700</td>\n",
       "      <td>0.357956</td>\n",
       "      <td>0.881250</td>\n",
       "    </tr>\n",
       "    <tr>\n",
       "      <td>1300</td>\n",
       "      <td>0.433600</td>\n",
       "      <td>0.342375</td>\n",
       "      <td>0.885938</td>\n",
       "    </tr>\n",
       "    <tr>\n",
       "      <td>1400</td>\n",
       "      <td>0.384400</td>\n",
       "      <td>0.335323</td>\n",
       "      <td>0.885938</td>\n",
       "    </tr>\n",
       "    <tr>\n",
       "      <td>1500</td>\n",
       "      <td>0.379000</td>\n",
       "      <td>0.329760</td>\n",
       "      <td>0.889062</td>\n",
       "    </tr>\n",
       "    <tr>\n",
       "      <td>1600</td>\n",
       "      <td>0.409500</td>\n",
       "      <td>0.325825</td>\n",
       "      <td>0.890625</td>\n",
       "    </tr>\n",
       "    <tr>\n",
       "      <td>1700</td>\n",
       "      <td>0.358800</td>\n",
       "      <td>0.325385</td>\n",
       "      <td>0.890625</td>\n",
       "    </tr>\n",
       "    <tr>\n",
       "      <td>1800</td>\n",
       "      <td>0.368900</td>\n",
       "      <td>0.324964</td>\n",
       "      <td>0.892188</td>\n",
       "    </tr>\n",
       "    <tr>\n",
       "      <td>1900</td>\n",
       "      <td>0.362300</td>\n",
       "      <td>0.324166</td>\n",
       "      <td>0.893750</td>\n",
       "    </tr>\n",
       "    <tr>\n",
       "      <td>2000</td>\n",
       "      <td>0.405200</td>\n",
       "      <td>0.323929</td>\n",
       "      <td>0.892188</td>\n",
       "    </tr>\n",
       "  </tbody>\n",
       "</table><p>"
      ],
      "text/plain": [
       "<IPython.core.display.HTML object>"
      ]
     },
     "metadata": {},
     "output_type": "display_data"
    }
   ],
   "source": [
    "# Continue training for another 1000 steps\n",
    "\n",
    "training_args = TrainingArguments(\n",
    "    # Core training configs\n",
    "    max_steps=2000,\n",
    "    per_device_train_batch_size=16,\n",
    "    per_device_eval_batch_size=64,\n",
    "    optim='adamw_torch',\n",
    "    lr_scheduler_type='linear',\n",
    "    learning_rate=5e-5,\n",
    "\n",
    "    # Logging, evaluation, and checkpointing\n",
    "    logging_strategy='steps',\n",
    "    logging_steps=100,\n",
    "    eval_strategy='steps',\n",
    "    eval_steps=100,\n",
    "    output_dir='/kaggle/working/saved_models',\n",
    "    save_strategy='steps',\n",
    "    save_steps=100,\n",
    "\n",
    "    # Miscellaneous\n",
    "    report_to='none',\n",
    "    dataloader_num_workers=4,\n",
    "    gradient_checkpointing=False,\n",
    "    gradient_checkpointing_kwargs={'use_reentrant':True}\n",
    ")\n",
    "\n",
    "train(model, training_args, checkpoint='/kaggle/working/saved_models/checkpoint-1000')"
   ]
  },
  {
   "cell_type": "code",
   "execution_count": 5,
   "metadata": {
    "execution": {
     "iopub.execute_input": "2025-04-13T01:45:38.279277Z",
     "iopub.status.busy": "2025-04-13T01:45:38.278907Z",
     "iopub.status.idle": "2025-04-13T01:53:35.290204Z",
     "shell.execute_reply": "2025-04-13T01:53:35.289404Z",
     "shell.execute_reply.started": "2025-04-13T01:45:38.279245Z"
    },
    "trusted": true
   },
   "outputs": [
    {
     "name": "stdout",
     "output_type": "stream",
     "text": [
      "Starting training...\n",
      "Resuming from checkpoint: /kaggle/working/saved_models/checkpoint-2000\n"
     ]
    },
    {
     "name": "stderr",
     "output_type": "stream",
     "text": [
      "/usr/local/lib/python3.10/dist-packages/transformers/trainer.py:3418: FutureWarning: You are using `torch.load` with `weights_only=False` (the current default value), which uses the default pickle module implicitly. It is possible to construct malicious pickle data which will execute arbitrary code during unpickling (See https://github.com/pytorch/pytorch/blob/main/SECURITY.md#untrusted-models for more details). In a future release, the default value for `weights_only` will be flipped to `True`. This limits the functions that could be executed during unpickling. Arbitrary objects will no longer be allowed to be loaded via this mode unless they are explicitly allowlisted by the user via `torch.serialization.add_safe_globals`. We recommend you start setting `weights_only=True` for any use case where you don't have full control of the loaded file. Please open an issue on GitHub for any issues related to this experimental feature.\n",
      "  torch.load(os.path.join(checkpoint, OPTIMIZER_NAME), map_location=map_location)\n",
      "/usr/local/lib/python3.10/dist-packages/transformers/trainer.py:3081: FutureWarning: You are using `torch.load` with `weights_only=False` (the current default value), which uses the default pickle module implicitly. It is possible to construct malicious pickle data which will execute arbitrary code during unpickling (See https://github.com/pytorch/pytorch/blob/main/SECURITY.md#untrusted-models for more details). In a future release, the default value for `weights_only` will be flipped to `True`. This limits the functions that could be executed during unpickling. Arbitrary objects will no longer be allowed to be loaded via this mode unless they are explicitly allowlisted by the user via `torch.serialization.add_safe_globals`. We recommend you start setting `weights_only=True` for any use case where you don't have full control of the loaded file. Please open an issue on GitHub for any issues related to this experimental feature.\n",
      "  checkpoint_rng_state = torch.load(rng_file)\n"
     ]
    },
    {
     "data": {
      "text/html": [
       "\n",
       "    <div>\n",
       "      \n",
       "      <progress value='3000' max='3000' style='width:300px; height:20px; vertical-align: middle;'></progress>\n",
       "      [3000/3000 07:52, Epoch 0/1]\n",
       "    </div>\n",
       "    <table border=\"1\" class=\"dataframe\">\n",
       "  <thead>\n",
       " <tr style=\"text-align: left;\">\n",
       "      <th>Step</th>\n",
       "      <th>Training Loss</th>\n",
       "      <th>Validation Loss</th>\n",
       "      <th>Accuracy</th>\n",
       "    </tr>\n",
       "  </thead>\n",
       "  <tbody>\n",
       "    <tr>\n",
       "      <td>2100</td>\n",
       "      <td>0.385500</td>\n",
       "      <td>0.321510</td>\n",
       "      <td>0.892188</td>\n",
       "    </tr>\n",
       "    <tr>\n",
       "      <td>2200</td>\n",
       "      <td>0.360900</td>\n",
       "      <td>0.319278</td>\n",
       "      <td>0.893750</td>\n",
       "    </tr>\n",
       "    <tr>\n",
       "      <td>2300</td>\n",
       "      <td>0.336400</td>\n",
       "      <td>0.318689</td>\n",
       "      <td>0.892188</td>\n",
       "    </tr>\n",
       "    <tr>\n",
       "      <td>2400</td>\n",
       "      <td>0.372600</td>\n",
       "      <td>0.317276</td>\n",
       "      <td>0.893750</td>\n",
       "    </tr>\n",
       "    <tr>\n",
       "      <td>2500</td>\n",
       "      <td>0.334300</td>\n",
       "      <td>0.318188</td>\n",
       "      <td>0.893750</td>\n",
       "    </tr>\n",
       "    <tr>\n",
       "      <td>2600</td>\n",
       "      <td>0.343600</td>\n",
       "      <td>0.317064</td>\n",
       "      <td>0.893750</td>\n",
       "    </tr>\n",
       "    <tr>\n",
       "      <td>2700</td>\n",
       "      <td>0.336600</td>\n",
       "      <td>0.316850</td>\n",
       "      <td>0.895312</td>\n",
       "    </tr>\n",
       "    <tr>\n",
       "      <td>2800</td>\n",
       "      <td>0.311200</td>\n",
       "      <td>0.316534</td>\n",
       "      <td>0.895312</td>\n",
       "    </tr>\n",
       "    <tr>\n",
       "      <td>2900</td>\n",
       "      <td>0.353000</td>\n",
       "      <td>0.316766</td>\n",
       "      <td>0.895312</td>\n",
       "    </tr>\n",
       "    <tr>\n",
       "      <td>3000</td>\n",
       "      <td>0.333400</td>\n",
       "      <td>0.316709</td>\n",
       "      <td>0.895312</td>\n",
       "    </tr>\n",
       "  </tbody>\n",
       "</table><p>"
      ],
      "text/plain": [
       "<IPython.core.display.HTML object>"
      ]
     },
     "metadata": {},
     "output_type": "display_data"
    }
   ],
   "source": [
    "# Continue training for another 1000 steps\n",
    "\n",
    "training_args = TrainingArguments(\n",
    "    # Core training configs\n",
    "    max_steps=3000,\n",
    "    per_device_train_batch_size=16,\n",
    "    per_device_eval_batch_size=64,\n",
    "    optim='adamw_torch',\n",
    "    lr_scheduler_type='linear',\n",
    "    learning_rate=5e-5,\n",
    "\n",
    "    # Logging, evaluation, and checkpointing\n",
    "    logging_strategy='steps',\n",
    "    logging_steps=100,\n",
    "    eval_strategy='steps',\n",
    "    eval_steps=100,\n",
    "    output_dir='/kaggle/working/saved_models',\n",
    "    save_strategy='steps',\n",
    "    save_steps=100,\n",
    "\n",
    "    # Miscellaneous\n",
    "    report_to='none',\n",
    "    dataloader_num_workers=4,\n",
    "    gradient_checkpointing=False,\n",
    "    gradient_checkpointing_kwargs={'use_reentrant':True}\n",
    ")\n",
    "\n",
    "train(model, training_args, checkpoint='/kaggle/working/saved_models/checkpoint-2000')"
   ]
  },
  {
   "cell_type": "code",
   "execution_count": 6,
   "metadata": {
    "execution": {
     "iopub.execute_input": "2025-04-13T01:53:50.262565Z",
     "iopub.status.busy": "2025-04-13T01:53:50.262213Z",
     "iopub.status.idle": "2025-04-13T01:53:50.308510Z",
     "shell.execute_reply": "2025-04-13T01:53:50.307765Z",
     "shell.execute_reply.started": "2025-04-13T01:53:50.262534Z"
    },
    "trusted": true
   },
   "outputs": [
    {
     "name": "stdout",
     "output_type": "stream",
     "text": [
      "Data exported to /kaggle/working/processed_data/processed_log_history.csv\n"
     ]
    },
    {
     "data": {
      "text/html": [
       "<div>\n",
       "<style scoped>\n",
       "    .dataframe tbody tr th:only-of-type {\n",
       "        vertical-align: middle;\n",
       "    }\n",
       "\n",
       "    .dataframe tbody tr th {\n",
       "        vertical-align: top;\n",
       "    }\n",
       "\n",
       "    .dataframe thead th {\n",
       "        text-align: right;\n",
       "    }\n",
       "</style>\n",
       "<table border=\"1\" class=\"dataframe\">\n",
       "  <thead>\n",
       "    <tr style=\"text-align: right;\">\n",
       "      <th></th>\n",
       "      <th>Step</th>\n",
       "      <th>Train Loss</th>\n",
       "      <th>Test Loss</th>\n",
       "      <th>Train Acc</th>\n",
       "      <th>Test Acc</th>\n",
       "      <th>Learning Rate</th>\n",
       "      <th>Epochs</th>\n",
       "      <th>loss spread</th>\n",
       "      <th>loss ratio</th>\n",
       "      <th>Acc spread</th>\n",
       "      <th>Acc ratio</th>\n",
       "    </tr>\n",
       "  </thead>\n",
       "  <tbody>\n",
       "    <tr>\n",
       "      <th>0</th>\n",
       "      <td>100</td>\n",
       "      <td>1.3750</td>\n",
       "      <td>1.346531</td>\n",
       "      <td>0.346250</td>\n",
       "      <td>0.679688</td>\n",
       "      <td>0.000045</td>\n",
       "      <td>0.013405</td>\n",
       "      <td>0.028469</td>\n",
       "      <td>1.021142</td>\n",
       "      <td>0.333437</td>\n",
       "      <td>1.962996</td>\n",
       "    </tr>\n",
       "    <tr>\n",
       "      <th>1</th>\n",
       "      <td>200</td>\n",
       "      <td>1.3267</td>\n",
       "      <td>1.293006</td>\n",
       "      <td>0.541518</td>\n",
       "      <td>0.792188</td>\n",
       "      <td>0.000040</td>\n",
       "      <td>0.026810</td>\n",
       "      <td>0.033694</td>\n",
       "      <td>1.026059</td>\n",
       "      <td>0.250670</td>\n",
       "      <td>1.462902</td>\n",
       "    </tr>\n",
       "    <tr>\n",
       "      <th>2</th>\n",
       "      <td>300</td>\n",
       "      <td>1.2513</td>\n",
       "      <td>1.203092</td>\n",
       "      <td>0.736161</td>\n",
       "      <td>0.835938</td>\n",
       "      <td>0.000035</td>\n",
       "      <td>0.040214</td>\n",
       "      <td>0.048208</td>\n",
       "      <td>1.040070</td>\n",
       "      <td>0.099777</td>\n",
       "      <td>1.135537</td>\n",
       "    </tr>\n",
       "    <tr>\n",
       "      <th>3</th>\n",
       "      <td>400</td>\n",
       "      <td>1.1251</td>\n",
       "      <td>1.042130</td>\n",
       "      <td>0.831696</td>\n",
       "      <td>0.851562</td>\n",
       "      <td>0.000030</td>\n",
       "      <td>0.053619</td>\n",
       "      <td>0.082970</td>\n",
       "      <td>1.079616</td>\n",
       "      <td>0.019866</td>\n",
       "      <td>1.023886</td>\n",
       "    </tr>\n",
       "    <tr>\n",
       "      <th>4</th>\n",
       "      <td>500</td>\n",
       "      <td>0.9420</td>\n",
       "      <td>0.827852</td>\n",
       "      <td>0.861161</td>\n",
       "      <td>0.875000</td>\n",
       "      <td>0.000025</td>\n",
       "      <td>0.067024</td>\n",
       "      <td>0.114148</td>\n",
       "      <td>1.137884</td>\n",
       "      <td>0.013839</td>\n",
       "      <td>1.016071</td>\n",
       "    </tr>\n",
       "    <tr>\n",
       "      <th>5</th>\n",
       "      <td>600</td>\n",
       "      <td>0.7483</td>\n",
       "      <td>0.645808</td>\n",
       "      <td>0.874554</td>\n",
       "      <td>0.881250</td>\n",
       "      <td>0.000020</td>\n",
       "      <td>0.080429</td>\n",
       "      <td>0.102492</td>\n",
       "      <td>1.158704</td>\n",
       "      <td>0.006696</td>\n",
       "      <td>1.007657</td>\n",
       "    </tr>\n",
       "    <tr>\n",
       "      <th>6</th>\n",
       "      <td>700</td>\n",
       "      <td>0.6247</td>\n",
       "      <td>0.527240</td>\n",
       "      <td>0.872768</td>\n",
       "      <td>0.875000</td>\n",
       "      <td>0.000015</td>\n",
       "      <td>0.093834</td>\n",
       "      <td>0.097460</td>\n",
       "      <td>1.184850</td>\n",
       "      <td>0.002232</td>\n",
       "      <td>1.002558</td>\n",
       "    </tr>\n",
       "    <tr>\n",
       "      <th>7</th>\n",
       "      <td>800</td>\n",
       "      <td>0.5684</td>\n",
       "      <td>0.472586</td>\n",
       "      <td>0.866071</td>\n",
       "      <td>0.873437</td>\n",
       "      <td>0.000010</td>\n",
       "      <td>0.107239</td>\n",
       "      <td>0.095814</td>\n",
       "      <td>1.202745</td>\n",
       "      <td>0.007366</td>\n",
       "      <td>1.008505</td>\n",
       "    </tr>\n",
       "    <tr>\n",
       "      <th>8</th>\n",
       "      <td>900</td>\n",
       "      <td>0.5050</td>\n",
       "      <td>0.443311</td>\n",
       "      <td>0.878571</td>\n",
       "      <td>0.873437</td>\n",
       "      <td>0.000005</td>\n",
       "      <td>0.120643</td>\n",
       "      <td>0.061689</td>\n",
       "      <td>1.139155</td>\n",
       "      <td>-0.005134</td>\n",
       "      <td>0.994157</td>\n",
       "    </tr>\n",
       "    <tr>\n",
       "      <th>9</th>\n",
       "      <td>1000</td>\n",
       "      <td>0.5032</td>\n",
       "      <td>0.435248</td>\n",
       "      <td>0.879018</td>\n",
       "      <td>0.876563</td>\n",
       "      <td>0.000000</td>\n",
       "      <td>0.134048</td>\n",
       "      <td>0.067952</td>\n",
       "      <td>1.156124</td>\n",
       "      <td>-0.002455</td>\n",
       "      <td>0.997207</td>\n",
       "    </tr>\n",
       "    <tr>\n",
       "      <th>10</th>\n",
       "      <td>1100</td>\n",
       "      <td>0.4820</td>\n",
       "      <td>0.382907</td>\n",
       "      <td>0.876250</td>\n",
       "      <td>0.882812</td>\n",
       "      <td>0.000023</td>\n",
       "      <td>0.147453</td>\n",
       "      <td>0.099093</td>\n",
       "      <td>1.258791</td>\n",
       "      <td>0.006563</td>\n",
       "      <td>1.007489</td>\n",
       "    </tr>\n",
       "    <tr>\n",
       "      <th>11</th>\n",
       "      <td>1200</td>\n",
       "      <td>0.4347</td>\n",
       "      <td>0.357956</td>\n",
       "      <td>0.884821</td>\n",
       "      <td>0.881250</td>\n",
       "      <td>0.000020</td>\n",
       "      <td>0.160858</td>\n",
       "      <td>0.076744</td>\n",
       "      <td>1.214396</td>\n",
       "      <td>-0.003571</td>\n",
       "      <td>0.995964</td>\n",
       "    </tr>\n",
       "    <tr>\n",
       "      <th>12</th>\n",
       "      <td>1300</td>\n",
       "      <td>0.4336</td>\n",
       "      <td>0.342375</td>\n",
       "      <td>0.875893</td>\n",
       "      <td>0.885938</td>\n",
       "      <td>0.000017</td>\n",
       "      <td>0.174263</td>\n",
       "      <td>0.091225</td>\n",
       "      <td>1.266448</td>\n",
       "      <td>0.010045</td>\n",
       "      <td>1.011468</td>\n",
       "    </tr>\n",
       "    <tr>\n",
       "      <th>13</th>\n",
       "      <td>1400</td>\n",
       "      <td>0.3844</td>\n",
       "      <td>0.335323</td>\n",
       "      <td>0.888393</td>\n",
       "      <td>0.885938</td>\n",
       "      <td>0.000015</td>\n",
       "      <td>0.187668</td>\n",
       "      <td>0.049077</td>\n",
       "      <td>1.146358</td>\n",
       "      <td>-0.002455</td>\n",
       "      <td>0.997236</td>\n",
       "    </tr>\n",
       "    <tr>\n",
       "      <th>14</th>\n",
       "      <td>1500</td>\n",
       "      <td>0.3790</td>\n",
       "      <td>0.329760</td>\n",
       "      <td>0.885714</td>\n",
       "      <td>0.889062</td>\n",
       "      <td>0.000013</td>\n",
       "      <td>0.201072</td>\n",
       "      <td>0.049240</td>\n",
       "      <td>1.149320</td>\n",
       "      <td>0.003348</td>\n",
       "      <td>1.003780</td>\n",
       "    </tr>\n",
       "    <tr>\n",
       "      <th>15</th>\n",
       "      <td>1600</td>\n",
       "      <td>0.4095</td>\n",
       "      <td>0.325825</td>\n",
       "      <td>0.881250</td>\n",
       "      <td>0.890625</td>\n",
       "      <td>0.000010</td>\n",
       "      <td>0.214477</td>\n",
       "      <td>0.083675</td>\n",
       "      <td>1.256809</td>\n",
       "      <td>0.009375</td>\n",
       "      <td>1.010638</td>\n",
       "    </tr>\n",
       "    <tr>\n",
       "      <th>16</th>\n",
       "      <td>1700</td>\n",
       "      <td>0.3588</td>\n",
       "      <td>0.325385</td>\n",
       "      <td>0.892857</td>\n",
       "      <td>0.890625</td>\n",
       "      <td>0.000008</td>\n",
       "      <td>0.227882</td>\n",
       "      <td>0.033415</td>\n",
       "      <td>1.102694</td>\n",
       "      <td>-0.002232</td>\n",
       "      <td>0.997500</td>\n",
       "    </tr>\n",
       "    <tr>\n",
       "      <th>17</th>\n",
       "      <td>1800</td>\n",
       "      <td>0.3689</td>\n",
       "      <td>0.324964</td>\n",
       "      <td>0.889732</td>\n",
       "      <td>0.892188</td>\n",
       "      <td>0.000005</td>\n",
       "      <td>0.241287</td>\n",
       "      <td>0.043936</td>\n",
       "      <td>1.135204</td>\n",
       "      <td>0.002455</td>\n",
       "      <td>1.002760</td>\n",
       "    </tr>\n",
       "    <tr>\n",
       "      <th>18</th>\n",
       "      <td>1900</td>\n",
       "      <td>0.3623</td>\n",
       "      <td>0.324166</td>\n",
       "      <td>0.894643</td>\n",
       "      <td>0.893750</td>\n",
       "      <td>0.000003</td>\n",
       "      <td>0.254692</td>\n",
       "      <td>0.038134</td>\n",
       "      <td>1.117638</td>\n",
       "      <td>-0.000893</td>\n",
       "      <td>0.999002</td>\n",
       "    </tr>\n",
       "    <tr>\n",
       "      <th>19</th>\n",
       "      <td>2000</td>\n",
       "      <td>0.4052</td>\n",
       "      <td>0.323929</td>\n",
       "      <td>0.883036</td>\n",
       "      <td>0.892188</td>\n",
       "      <td>0.000000</td>\n",
       "      <td>0.268097</td>\n",
       "      <td>0.081271</td>\n",
       "      <td>1.250891</td>\n",
       "      <td>0.009152</td>\n",
       "      <td>1.010364</td>\n",
       "    </tr>\n",
       "    <tr>\n",
       "      <th>20</th>\n",
       "      <td>2100</td>\n",
       "      <td>0.3855</td>\n",
       "      <td>0.321510</td>\n",
       "      <td>0.883125</td>\n",
       "      <td>0.892188</td>\n",
       "      <td>0.000015</td>\n",
       "      <td>0.281501</td>\n",
       "      <td>0.063990</td>\n",
       "      <td>1.199030</td>\n",
       "      <td>0.009062</td>\n",
       "      <td>1.010262</td>\n",
       "    </tr>\n",
       "    <tr>\n",
       "      <th>21</th>\n",
       "      <td>2200</td>\n",
       "      <td>0.3609</td>\n",
       "      <td>0.319278</td>\n",
       "      <td>0.887946</td>\n",
       "      <td>0.893750</td>\n",
       "      <td>0.000013</td>\n",
       "      <td>0.294906</td>\n",
       "      <td>0.041622</td>\n",
       "      <td>1.130363</td>\n",
       "      <td>0.005804</td>\n",
       "      <td>1.006536</td>\n",
       "    </tr>\n",
       "    <tr>\n",
       "      <th>22</th>\n",
       "      <td>2300</td>\n",
       "      <td>0.3364</td>\n",
       "      <td>0.318689</td>\n",
       "      <td>0.895536</td>\n",
       "      <td>0.892188</td>\n",
       "      <td>0.000012</td>\n",
       "      <td>0.308311</td>\n",
       "      <td>0.017711</td>\n",
       "      <td>1.055574</td>\n",
       "      <td>-0.003348</td>\n",
       "      <td>0.996261</td>\n",
       "    </tr>\n",
       "    <tr>\n",
       "      <th>23</th>\n",
       "      <td>2400</td>\n",
       "      <td>0.3726</td>\n",
       "      <td>0.317276</td>\n",
       "      <td>0.885714</td>\n",
       "      <td>0.893750</td>\n",
       "      <td>0.000010</td>\n",
       "      <td>0.321716</td>\n",
       "      <td>0.055324</td>\n",
       "      <td>1.174372</td>\n",
       "      <td>0.008036</td>\n",
       "      <td>1.009073</td>\n",
       "    </tr>\n",
       "    <tr>\n",
       "      <th>24</th>\n",
       "      <td>2500</td>\n",
       "      <td>0.3343</td>\n",
       "      <td>0.318188</td>\n",
       "      <td>0.887500</td>\n",
       "      <td>0.893750</td>\n",
       "      <td>0.000008</td>\n",
       "      <td>0.335121</td>\n",
       "      <td>0.016112</td>\n",
       "      <td>1.050638</td>\n",
       "      <td>0.006250</td>\n",
       "      <td>1.007042</td>\n",
       "    </tr>\n",
       "    <tr>\n",
       "      <th>25</th>\n",
       "      <td>2600</td>\n",
       "      <td>0.3436</td>\n",
       "      <td>0.317064</td>\n",
       "      <td>0.897321</td>\n",
       "      <td>0.893750</td>\n",
       "      <td>0.000007</td>\n",
       "      <td>0.348525</td>\n",
       "      <td>0.026536</td>\n",
       "      <td>1.083694</td>\n",
       "      <td>-0.003571</td>\n",
       "      <td>0.996020</td>\n",
       "    </tr>\n",
       "    <tr>\n",
       "      <th>26</th>\n",
       "      <td>2700</td>\n",
       "      <td>0.3366</td>\n",
       "      <td>0.316850</td>\n",
       "      <td>0.896875</td>\n",
       "      <td>0.895312</td>\n",
       "      <td>0.000005</td>\n",
       "      <td>0.361930</td>\n",
       "      <td>0.019750</td>\n",
       "      <td>1.062331</td>\n",
       "      <td>-0.001563</td>\n",
       "      <td>0.998258</td>\n",
       "    </tr>\n",
       "    <tr>\n",
       "      <th>27</th>\n",
       "      <td>2800</td>\n",
       "      <td>0.3112</td>\n",
       "      <td>0.316534</td>\n",
       "      <td>0.898214</td>\n",
       "      <td>0.895312</td>\n",
       "      <td>0.000003</td>\n",
       "      <td>0.375335</td>\n",
       "      <td>-0.005334</td>\n",
       "      <td>0.983150</td>\n",
       "      <td>-0.002902</td>\n",
       "      <td>0.996769</td>\n",
       "    </tr>\n",
       "    <tr>\n",
       "      <th>28</th>\n",
       "      <td>2900</td>\n",
       "      <td>0.3530</td>\n",
       "      <td>0.316766</td>\n",
       "      <td>0.893304</td>\n",
       "      <td>0.895312</td>\n",
       "      <td>0.000002</td>\n",
       "      <td>0.388740</td>\n",
       "      <td>0.036234</td>\n",
       "      <td>1.114388</td>\n",
       "      <td>0.002009</td>\n",
       "      <td>1.002249</td>\n",
       "    </tr>\n",
       "    <tr>\n",
       "      <th>29</th>\n",
       "      <td>3000</td>\n",
       "      <td>0.3334</td>\n",
       "      <td>0.316709</td>\n",
       "      <td>0.892411</td>\n",
       "      <td>0.895312</td>\n",
       "      <td>0.000000</td>\n",
       "      <td>0.402145</td>\n",
       "      <td>0.016691</td>\n",
       "      <td>1.052702</td>\n",
       "      <td>0.002902</td>\n",
       "      <td>1.003252</td>\n",
       "    </tr>\n",
       "  </tbody>\n",
       "</table>\n",
       "</div>"
      ],
      "text/plain": [
       "    Step  Train Loss  Test Loss  Train Acc  Test Acc  Learning Rate    Epochs  \\\n",
       "0    100      1.3750   1.346531   0.346250  0.679688       0.000045  0.013405   \n",
       "1    200      1.3267   1.293006   0.541518  0.792188       0.000040  0.026810   \n",
       "2    300      1.2513   1.203092   0.736161  0.835938       0.000035  0.040214   \n",
       "3    400      1.1251   1.042130   0.831696  0.851562       0.000030  0.053619   \n",
       "4    500      0.9420   0.827852   0.861161  0.875000       0.000025  0.067024   \n",
       "5    600      0.7483   0.645808   0.874554  0.881250       0.000020  0.080429   \n",
       "6    700      0.6247   0.527240   0.872768  0.875000       0.000015  0.093834   \n",
       "7    800      0.5684   0.472586   0.866071  0.873437       0.000010  0.107239   \n",
       "8    900      0.5050   0.443311   0.878571  0.873437       0.000005  0.120643   \n",
       "9   1000      0.5032   0.435248   0.879018  0.876563       0.000000  0.134048   \n",
       "10  1100      0.4820   0.382907   0.876250  0.882812       0.000023  0.147453   \n",
       "11  1200      0.4347   0.357956   0.884821  0.881250       0.000020  0.160858   \n",
       "12  1300      0.4336   0.342375   0.875893  0.885938       0.000017  0.174263   \n",
       "13  1400      0.3844   0.335323   0.888393  0.885938       0.000015  0.187668   \n",
       "14  1500      0.3790   0.329760   0.885714  0.889062       0.000013  0.201072   \n",
       "15  1600      0.4095   0.325825   0.881250  0.890625       0.000010  0.214477   \n",
       "16  1700      0.3588   0.325385   0.892857  0.890625       0.000008  0.227882   \n",
       "17  1800      0.3689   0.324964   0.889732  0.892188       0.000005  0.241287   \n",
       "18  1900      0.3623   0.324166   0.894643  0.893750       0.000003  0.254692   \n",
       "19  2000      0.4052   0.323929   0.883036  0.892188       0.000000  0.268097   \n",
       "20  2100      0.3855   0.321510   0.883125  0.892188       0.000015  0.281501   \n",
       "21  2200      0.3609   0.319278   0.887946  0.893750       0.000013  0.294906   \n",
       "22  2300      0.3364   0.318689   0.895536  0.892188       0.000012  0.308311   \n",
       "23  2400      0.3726   0.317276   0.885714  0.893750       0.000010  0.321716   \n",
       "24  2500      0.3343   0.318188   0.887500  0.893750       0.000008  0.335121   \n",
       "25  2600      0.3436   0.317064   0.897321  0.893750       0.000007  0.348525   \n",
       "26  2700      0.3366   0.316850   0.896875  0.895312       0.000005  0.361930   \n",
       "27  2800      0.3112   0.316534   0.898214  0.895312       0.000003  0.375335   \n",
       "28  2900      0.3530   0.316766   0.893304  0.895312       0.000002  0.388740   \n",
       "29  3000      0.3334   0.316709   0.892411  0.895312       0.000000  0.402145   \n",
       "\n",
       "    loss spread  loss ratio  Acc spread  Acc ratio  \n",
       "0      0.028469    1.021142    0.333437   1.962996  \n",
       "1      0.033694    1.026059    0.250670   1.462902  \n",
       "2      0.048208    1.040070    0.099777   1.135537  \n",
       "3      0.082970    1.079616    0.019866   1.023886  \n",
       "4      0.114148    1.137884    0.013839   1.016071  \n",
       "5      0.102492    1.158704    0.006696   1.007657  \n",
       "6      0.097460    1.184850    0.002232   1.002558  \n",
       "7      0.095814    1.202745    0.007366   1.008505  \n",
       "8      0.061689    1.139155   -0.005134   0.994157  \n",
       "9      0.067952    1.156124   -0.002455   0.997207  \n",
       "10     0.099093    1.258791    0.006563   1.007489  \n",
       "11     0.076744    1.214396   -0.003571   0.995964  \n",
       "12     0.091225    1.266448    0.010045   1.011468  \n",
       "13     0.049077    1.146358   -0.002455   0.997236  \n",
       "14     0.049240    1.149320    0.003348   1.003780  \n",
       "15     0.083675    1.256809    0.009375   1.010638  \n",
       "16     0.033415    1.102694   -0.002232   0.997500  \n",
       "17     0.043936    1.135204    0.002455   1.002760  \n",
       "18     0.038134    1.117638   -0.000893   0.999002  \n",
       "19     0.081271    1.250891    0.009152   1.010364  \n",
       "20     0.063990    1.199030    0.009062   1.010262  \n",
       "21     0.041622    1.130363    0.005804   1.006536  \n",
       "22     0.017711    1.055574   -0.003348   0.996261  \n",
       "23     0.055324    1.174372    0.008036   1.009073  \n",
       "24     0.016112    1.050638    0.006250   1.007042  \n",
       "25     0.026536    1.083694   -0.003571   0.996020  \n",
       "26     0.019750    1.062331   -0.001563   0.998258  \n",
       "27    -0.005334    0.983150   -0.002902   0.996769  \n",
       "28     0.036234    1.114388    0.002009   1.002249  \n",
       "29     0.016691    1.052702    0.002902   1.003252  "
      ]
     },
     "execution_count": 6,
     "metadata": {},
     "output_type": "execute_result"
    }
   ],
   "source": [
    "# Show all checkpoint metrics (including spread and ratio)\n",
    "\n",
    "import os\n",
    "import pandas as pd\n",
    "\n",
    "# Define paths\n",
    "csv_path = \"/kaggle/working/saved_models/checkpoint-3000/log_history.csv\"\n",
    "output_dir = \"/kaggle/working/processed_data\"\n",
    "output_csv = os.path.join(output_dir, \"processed_log_history.csv\")\n",
    "\n",
    "# Create the output directory if it doesn't exist\n",
    "os.makedirs(output_dir, exist_ok=True)\n",
    "\n",
    "# Read the csv file\n",
    "df = pd.read_csv(csv_path)\n",
    "\n",
    "# Select desired columns and reorder the dataframe\n",
    "desired_order = [\n",
    "    \"step\",         \n",
    "    \"loss\",         \n",
    "    \"eval_loss\",   \n",
    "    \"accuracy\",     \n",
    "    \"eval_accuracy\",\n",
    "    \"learning_rate\",\n",
    "    \"epoch\"         \n",
    "]\n",
    "df = df[desired_order]\n",
    "\n",
    "# Rename columns for uniformity\n",
    "df.rename(columns={\n",
    "    \"step\": \"Step\",\n",
    "    \"loss\": \"Train Loss\",\n",
    "    \"eval_loss\": \"Test Loss\",\n",
    "    \"accuracy\": \"Train Acc\",\n",
    "    \"eval_accuracy\": \"Test Acc\",\n",
    "    \"learning_rate\": \"Learning Rate\",\n",
    "    \"epoch\": \"Epochs\"\n",
    "}, inplace=True)\n",
    "\n",
    "# Adding loss spread and loss ratio columns\n",
    "df[\"loss spread\"] = df[\"Train Loss\"] - df[\"Test Loss\"]\n",
    "df[\"loss ratio\"] = df[\"Train Loss\"] / df[\"Test Loss\"]\n",
    "\n",
    "# Adding acc spread and acc ratio columns\n",
    "df[\"Acc spread\"] = df[\"Test Acc\"] - df[\"Train Acc\"]\n",
    "df[\"Acc ratio\"] = df[\"Test Acc\"] / df[\"Train Acc\"]\n",
    "\n",
    "# Export the DataFrame as a csv file\n",
    "df.to_csv(output_csv, index=False)\n",
    "\n",
    "print(f\"Data exported to {output_csv}\")\n",
    "\n",
    "df"
   ]
  },
  {
   "cell_type": "code",
   "execution_count": null,
   "metadata": {
    "execution": {
     "iopub.execute_input": "2025-04-13T01:55:49.809033Z",
     "iopub.status.busy": "2025-04-13T01:55:49.808675Z",
     "iopub.status.idle": "2025-04-13T01:56:53.961023Z",
     "shell.execute_reply": "2025-04-13T01:56:53.960106Z",
     "shell.execute_reply.started": "2025-04-13T01:55:49.809002Z"
    },
    "trusted": true
   },
   "outputs": [
    {
     "data": {
      "application/vnd.jupyter.widget-view+json": {
       "model_id": "01f58bda57814edfb9244311969c713e",
       "version_major": 2,
       "version_minor": 0
      },
      "text/plain": [
       "Map:   0%|          | 0/8000 [00:00<?, ? examples/s]"
      ]
     },
     "metadata": {},
     "output_type": "display_data"
    },
    {
     "name": "stderr",
     "output_type": "stream",
     "text": [
      "Some weights of RobertaForSequenceClassification were not initialized from the model checkpoint at roberta-base and are newly initialized: ['classifier.dense.bias', 'classifier.dense.weight', 'classifier.out_proj.bias', 'classifier.out_proj.weight']\n",
      "You should probably TRAIN this model on a down-stream task to be able to use it for predictions and inference.\n"
     ]
    },
    {
     "name": "stdout",
     "output_type": "stream",
     "text": [
      "Running inference...\n"
     ]
    },
    {
     "name": "stderr",
     "output_type": "stream",
     "text": [
      "100%|██████████| 250/250 [00:56<00:00,  4.40it/s]"
     ]
    },
    {
     "name": "stdout",
     "output_type": "stream",
     "text": [
      "Predictions saved to /kaggle/working/saved_predictions/predictions_checkpoint-2700.csv\n"
     ]
    },
    {
     "name": "stderr",
     "output_type": "stream",
     "text": [
      "\n"
     ]
    }
   ],
   "source": [
    "# Inference\n",
    "\n",
    "from inference import main as inference\n",
    "\n",
    "data_path = '/kaggle/input/deep-learning-spring-2025-project-2/test_unlabelled.pkl'\n",
    "checkpoint = '/kaggle/working/saved_models/checkpoint-2700' # best test acc, smallest acc spread\n",
    "output_dir = '/kaggle/working/saved_predictions'\n",
    "\n",
    "inference(data_path, checkpoint, output_dir)"
   ]
  },
  {
   "cell_type": "code",
   "execution_count": null,
   "metadata": {
    "execution": {
     "iopub.execute_input": "2025-04-13T01:56:58.755876Z",
     "iopub.status.busy": "2025-04-13T01:56:58.755543Z",
     "iopub.status.idle": "2025-04-13T01:58:02.659654Z",
     "shell.execute_reply": "2025-04-13T01:58:02.658799Z",
     "shell.execute_reply.started": "2025-04-13T01:56:58.755846Z"
    },
    "trusted": true
   },
   "outputs": [
    {
     "data": {
      "application/vnd.jupyter.widget-view+json": {
       "model_id": "f09a98357e5c467eb52a2b52d7352f33",
       "version_major": 2,
       "version_minor": 0
      },
      "text/plain": [
       "Map:   0%|          | 0/8000 [00:00<?, ? examples/s]"
      ]
     },
     "metadata": {},
     "output_type": "display_data"
    },
    {
     "name": "stderr",
     "output_type": "stream",
     "text": [
      "Some weights of RobertaForSequenceClassification were not initialized from the model checkpoint at roberta-base and are newly initialized: ['classifier.dense.bias', 'classifier.dense.weight', 'classifier.out_proj.bias', 'classifier.out_proj.weight']\n",
      "You should probably TRAIN this model on a down-stream task to be able to use it for predictions and inference.\n"
     ]
    },
    {
     "name": "stdout",
     "output_type": "stream",
     "text": [
      "Running inference...\n"
     ]
    },
    {
     "name": "stderr",
     "output_type": "stream",
     "text": [
      "100%|██████████| 250/250 [00:56<00:00,  4.42it/s]"
     ]
    },
    {
     "name": "stdout",
     "output_type": "stream",
     "text": [
      "Predictions saved to /kaggle/working/saved_predictions/predictions_checkpoint-2800.csv\n"
     ]
    },
    {
     "name": "stderr",
     "output_type": "stream",
     "text": [
      "\n"
     ]
    }
   ],
   "source": [
    "checkpoint = '/kaggle/working/saved_models/checkpoint-2800' # best test acc, smallest loss spread\n",
    "\n",
    "inference(data_path, checkpoint, output_dir)"
   ]
  }
 ],
 "metadata": {
  "kaggle": {
   "accelerator": "gpu",
   "dataSources": [
    {
     "databundleVersionId": 11711500,
     "sourceId": 98084,
     "sourceType": "competition"
    }
   ],
   "dockerImageVersionId": 30918,
   "isGpuEnabled": true,
   "isInternetEnabled": true,
   "language": "python",
   "sourceType": "notebook"
  },
  "kernelspec": {
   "display_name": "Python 3",
   "language": "python",
   "name": "python3"
  },
  "language_info": {
   "codemirror_mode": {
    "name": "ipython",
    "version": 3
   },
   "file_extension": ".py",
   "mimetype": "text/x-python",
   "name": "python",
   "nbconvert_exporter": "python",
   "pygments_lexer": "ipython3",
   "version": "3.10.12"
  }
 },
 "nbformat": 4,
 "nbformat_minor": 4
}
